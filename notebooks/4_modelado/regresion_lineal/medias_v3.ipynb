{
 "cells": [
  {
   "cell_type": "markdown",
   "metadata": {},
   "source": [
    "# Predecir 202002 a partir de los coeficientes del modelo de regresión lineal\n",
    "\n",
    "Se consideran los coeficientes del modelo ajustado en la notebook 'notebooks\\4_modelado\\regresion_lineal\\modelo_regresion_2018_para_predecir_con_2019_v3.ipynb'."
   ]
  },
  {
   "cell_type": "code",
   "execution_count": 1,
   "id": "19d7ba74",
   "metadata": {},
   "outputs": [],
   "source": [
    "import pandas as pd\n",
    "from src.utils.utils import get_base_dir"
   ]
  },
  {
   "cell_type": "code",
   "execution_count": 2,
   "id": "3021edfc",
   "metadata": {},
   "outputs": [
    {
     "data": {
      "text/plain": [
       "WindowsPath('C:/Users/lauta/Desktop/Lautaro/maestria_ds/labo3/repo-entrega')"
      ]
     },
     "execution_count": 2,
     "metadata": {},
     "output_type": "execute_result"
    }
   ],
   "source": [
    "base_dir = get_base_dir()\n",
    "base_dir"
   ]
  },
  {
   "cell_type": "markdown",
   "metadata": {},
   "source": [
    "## Importar datos"
   ]
  },
  {
   "cell_type": "code",
   "execution_count": 3,
   "id": "d7fea4ff",
   "metadata": {},
   "outputs": [],
   "source": [
    "# archivo a predecir 202002\n",
    "df_pred = pd.read_csv((base_dir / \"data/predict/raw/product_id_apredecir201912.txt\"), sep=\"\\t\", encoding=\"utf-8\")"
   ]
  },
  {
   "cell_type": "code",
   "execution_count": 4,
   "id": "6b98b258",
   "metadata": {},
   "outputs": [],
   "source": [
    "# df original sell-in\n",
    "DATA_PATH_SELL_IN = base_dir/ \"data/raw/sell-in.txt\"\n",
    "sell_in = pd.read_csv(DATA_PATH_SELL_IN, sep=\"\\t\")"
   ]
  },
  {
   "cell_type": "markdown",
   "id": "17e661ed",
   "metadata": {},
   "source": [
    "## Agrupar por periodo-producto"
   ]
  },
  {
   "cell_type": "code",
   "execution_count": 5,
   "id": "cdac761a",
   "metadata": {},
   "outputs": [],
   "source": [
    "sell_in_agrup = sell_in.groupby([\"periodo\",\"product_id\"]).agg({\"tn\":\"sum\"}).reset_index().sort_values(by=[\"periodo\",\"product_id\"])"
   ]
  },
  {
   "cell_type": "code",
   "execution_count": 6,
   "id": "ea0abeb9",
   "metadata": {},
   "outputs": [],
   "source": [
    "sell_in_agrup = sell_in_agrup[sell_in_agrup[\"product_id\"].isin(df_pred[\"product_id\"])].reset_index(drop=True)"
   ]
  },
  {
   "cell_type": "markdown",
   "id": "aa003f3f",
   "metadata": {},
   "source": [
    "## Filtrar 2019 (enero a diciembre)"
   ]
  },
  {
   "cell_type": "code",
   "execution_count": 7,
   "metadata": {},
   "outputs": [
    {
     "data": {
      "text/html": [
       "<div>\n",
       "<style scoped>\n",
       "    .dataframe tbody tr th:only-of-type {\n",
       "        vertical-align: middle;\n",
       "    }\n",
       "\n",
       "    .dataframe tbody tr th {\n",
       "        vertical-align: top;\n",
       "    }\n",
       "\n",
       "    .dataframe thead th {\n",
       "        text-align: right;\n",
       "    }\n",
       "</style>\n",
       "<table border=\"1\" class=\"dataframe\">\n",
       "  <thead>\n",
       "    <tr style=\"text-align: right;\">\n",
       "      <th></th>\n",
       "      <th>periodo</th>\n",
       "      <th>product_id</th>\n",
       "      <th>tn</th>\n",
       "    </tr>\n",
       "  </thead>\n",
       "  <tbody>\n",
       "    <tr>\n",
       "      <th>13561</th>\n",
       "      <td>201901</td>\n",
       "      <td>20001</td>\n",
       "      <td>1275.77351</td>\n",
       "    </tr>\n",
       "    <tr>\n",
       "      <th>13562</th>\n",
       "      <td>201901</td>\n",
       "      <td>20002</td>\n",
       "      <td>1266.78751</td>\n",
       "    </tr>\n",
       "    <tr>\n",
       "      <th>13563</th>\n",
       "      <td>201901</td>\n",
       "      <td>20003</td>\n",
       "      <td>964.76919</td>\n",
       "    </tr>\n",
       "    <tr>\n",
       "      <th>13564</th>\n",
       "      <td>201901</td>\n",
       "      <td>20004</td>\n",
       "      <td>511.33713</td>\n",
       "    </tr>\n",
       "    <tr>\n",
       "      <th>13565</th>\n",
       "      <td>201901</td>\n",
       "      <td>20005</td>\n",
       "      <td>363.58438</td>\n",
       "    </tr>\n",
       "    <tr>\n",
       "      <th>...</th>\n",
       "      <td>...</td>\n",
       "      <td>...</td>\n",
       "      <td>...</td>\n",
       "    </tr>\n",
       "    <tr>\n",
       "      <th>22344</th>\n",
       "      <td>201912</td>\n",
       "      <td>21263</td>\n",
       "      <td>0.01270</td>\n",
       "    </tr>\n",
       "    <tr>\n",
       "      <th>22345</th>\n",
       "      <td>201912</td>\n",
       "      <td>21265</td>\n",
       "      <td>0.05007</td>\n",
       "    </tr>\n",
       "    <tr>\n",
       "      <th>22346</th>\n",
       "      <td>201912</td>\n",
       "      <td>21266</td>\n",
       "      <td>0.05121</td>\n",
       "    </tr>\n",
       "    <tr>\n",
       "      <th>22347</th>\n",
       "      <td>201912</td>\n",
       "      <td>21267</td>\n",
       "      <td>0.01569</td>\n",
       "    </tr>\n",
       "    <tr>\n",
       "      <th>22348</th>\n",
       "      <td>201912</td>\n",
       "      <td>21276</td>\n",
       "      <td>0.00892</td>\n",
       "    </tr>\n",
       "  </tbody>\n",
       "</table>\n",
       "<p>8788 rows × 3 columns</p>\n",
       "</div>"
      ],
      "text/plain": [
       "       periodo  product_id          tn\n",
       "13561   201901       20001  1275.77351\n",
       "13562   201901       20002  1266.78751\n",
       "13563   201901       20003   964.76919\n",
       "13564   201901       20004   511.33713\n",
       "13565   201901       20005   363.58438\n",
       "...        ...         ...         ...\n",
       "22344   201912       21263     0.01270\n",
       "22345   201912       21265     0.05007\n",
       "22346   201912       21266     0.05121\n",
       "22347   201912       21267     0.01569\n",
       "22348   201912       21276     0.00892\n",
       "\n",
       "[8788 rows x 3 columns]"
      ]
     },
     "execution_count": 7,
     "metadata": {},
     "output_type": "execute_result"
    }
   ],
   "source": [
    "sell_in_agrup_2019 = sell_in_agrup[sell_in_agrup[\"periodo\"].between(201901, 201912)]\n",
    "sell_in_agrup_2019"
   ]
  },
  {
   "cell_type": "markdown",
   "metadata": {},
   "source": [
    "## Obtener listado productos \"magicos\" y coeficientes del modelo de regresiòn lineal ajustado en la notebook"
   ]
  },
  {
   "cell_type": "code",
   "execution_count": 8,
   "id": "d12334c6",
   "metadata": {},
   "outputs": [],
   "source": [
    "product_id_coef = pd.read_csv(\"product_id_coef_magicos.csv\")\n",
    "product_id_coef_list = product_id_coef[\"product_id\"].tolist()"
   ]
  },
  {
   "cell_type": "code",
   "execution_count": 9,
   "id": "beb24d02",
   "metadata": {},
   "outputs": [],
   "source": [
    "coef = [ 0.07340737,  0.12000926,  0.10378153,  0.14164472,  0.04479068,\n",
    "         0.15376063, -0.00874092, -0.16108622, -0.05917115,  0.17759373,\n",
    "         0.23588766, -0.00156842]\n",
    "coef_dict = {}\n",
    "periodo_inicial = 201901\n",
    "for i in coef:\n",
    "    coef_dict[periodo_inicial] = i\n",
    "    periodo_inicial += 1    \n",
    "\n",
    "product_id_coef = product_id_coef_list"
   ]
  },
  {
   "cell_type": "code",
   "execution_count": 17,
   "id": "bd2f62c3",
   "metadata": {},
   "outputs": [
    {
     "name": "stdout",
     "output_type": "stream",
     "text": [
      "[20001, 20002, 20003, 20006, 20008, 20010, 20011, 20017, 20018, 20019, 20021, 20026, 20028, 20035, 20039, 20042, 20044, 20045, 20046, 20049, 20051, 20052, 20053, 20055, 20086, 20180, 20193, 20320, 20532, 20612, 20637, 20807, 20838]\n"
     ]
    },
    {
     "data": {
      "text/plain": [
       "{201901: 0.07340737,\n",
       " 201902: 0.12000926,\n",
       " 201903: 0.10378153,\n",
       " 201904: 0.14164472,\n",
       " 201905: 0.04479068,\n",
       " 201906: 0.15376063,\n",
       " 201907: -0.00874092,\n",
       " 201908: -0.16108622,\n",
       " 201909: -0.05917115,\n",
       " 201910: 0.17759373,\n",
       " 201911: 0.23588766,\n",
       " 201912: -0.00156842}"
      ]
     },
     "execution_count": 17,
     "metadata": {},
     "output_type": "execute_result"
    }
   ],
   "source": [
    "# productos con coeficientes mágicos\n",
    "print(product_id_coef)\n",
    "\n",
    "# coeficientes por año-mes\n",
    "coef_dict\n"
   ]
  },
  {
   "cell_type": "markdown",
   "id": "4cfc1e5c",
   "metadata": {},
   "source": [
    "## Aplicar modelo en 2019 para predecir 202002\n",
    "\n",
    "SOLO se aplica el modelo a los productos \"magicos\", para el resto se considera el promedio de los ultimos 12 meses.\n"
   ]
  },
  {
   "cell_type": "code",
   "execution_count": 18,
   "id": "cd430ff8",
   "metadata": {},
   "outputs": [
    {
     "data": {
      "text/html": [
       "<div>\n",
       "<style scoped>\n",
       "    .dataframe tbody tr th:only-of-type {\n",
       "        vertical-align: middle;\n",
       "    }\n",
       "\n",
       "    .dataframe tbody tr th {\n",
       "        vertical-align: top;\n",
       "    }\n",
       "\n",
       "    .dataframe thead th {\n",
       "        text-align: right;\n",
       "    }\n",
       "</style>\n",
       "<table border=\"1\" class=\"dataframe\">\n",
       "  <thead>\n",
       "    <tr style=\"text-align: right;\">\n",
       "      <th></th>\n",
       "      <th>product_id</th>\n",
       "      <th>tn</th>\n",
       "    </tr>\n",
       "  </thead>\n",
       "  <tbody>\n",
       "    <tr>\n",
       "      <th>0</th>\n",
       "      <td>20001</td>\n",
       "      <td>1162.914886</td>\n",
       "    </tr>\n",
       "    <tr>\n",
       "      <th>1</th>\n",
       "      <td>20002</td>\n",
       "      <td>1182.845672</td>\n",
       "    </tr>\n",
       "    <tr>\n",
       "      <th>2</th>\n",
       "      <td>20003</td>\n",
       "      <td>684.835899</td>\n",
       "    </tr>\n",
       "    <tr>\n",
       "      <th>3</th>\n",
       "      <td>20004</td>\n",
       "      <td>627.215328</td>\n",
       "    </tr>\n",
       "    <tr>\n",
       "      <th>4</th>\n",
       "      <td>20005</td>\n",
       "      <td>668.270104</td>\n",
       "    </tr>\n",
       "    <tr>\n",
       "      <th>...</th>\n",
       "      <td>...</td>\n",
       "      <td>...</td>\n",
       "    </tr>\n",
       "    <tr>\n",
       "      <th>775</th>\n",
       "      <td>21263</td>\n",
       "      <td>0.029993</td>\n",
       "    </tr>\n",
       "    <tr>\n",
       "      <th>776</th>\n",
       "      <td>21265</td>\n",
       "      <td>0.089541</td>\n",
       "    </tr>\n",
       "    <tr>\n",
       "      <th>777</th>\n",
       "      <td>21266</td>\n",
       "      <td>0.094659</td>\n",
       "    </tr>\n",
       "    <tr>\n",
       "      <th>778</th>\n",
       "      <td>21267</td>\n",
       "      <td>0.092835</td>\n",
       "    </tr>\n",
       "    <tr>\n",
       "      <th>779</th>\n",
       "      <td>21276</td>\n",
       "      <td>0.045447</td>\n",
       "    </tr>\n",
       "  </tbody>\n",
       "</table>\n",
       "<p>780 rows × 2 columns</p>\n",
       "</div>"
      ],
      "text/plain": [
       "     product_id           tn\n",
       "0         20001  1162.914886\n",
       "1         20002  1182.845672\n",
       "2         20003   684.835899\n",
       "3         20004   627.215328\n",
       "4         20005   668.270104\n",
       "..          ...          ...\n",
       "775       21263     0.029993\n",
       "776       21265     0.089541\n",
       "777       21266     0.094659\n",
       "778       21267     0.092835\n",
       "779       21276     0.045447\n",
       "\n",
       "[780 rows x 2 columns]"
      ]
     },
     "execution_count": 18,
     "metadata": {},
     "output_type": "execute_result"
    }
   ],
   "source": [
    "# Crear una función para calcular el valor según el criterio\n",
    "def calcular_valor(group, product_id):\n",
    "    if product_id in product_id_coef:\n",
    "        # Para productos en la lista: multiplicar tn por coeficiente del periodo y sumar\n",
    "        group['tn_ajustado'] = group.apply(lambda row: row['tn'] * coef_dict[row['periodo']], axis=1)\n",
    "        return group['tn_ajustado'].sum()\n",
    "    else:\n",
    "        # Para productos NO en la lista: calcular promedio\n",
    "        return group['tn'].mean()\n",
    "\n",
    "# Aplicar la función agrupando por product_id\n",
    "resultado = sell_in_agrup_2019.groupby('product_id').apply(lambda x: calcular_valor(x, x.name), include_groups=False).reset_index()\n",
    "resultado.columns = ['product_id', 'tn']\n",
    "\n",
    "# Mostrar el resultado\n",
    "resultado"
   ]
  },
  {
   "cell_type": "code",
   "execution_count": 19,
   "id": "2ef36949",
   "metadata": {},
   "outputs": [],
   "source": [
    "df_pred_processed = df_pred.merge(resultado[[\"product_id\",\"tn\"]], on='product_id', how='left', suffixes=('', '_baseline'))"
   ]
  },
  {
   "cell_type": "code",
   "execution_count": 20,
   "id": "1cf32e10",
   "metadata": {},
   "outputs": [
    {
     "data": {
      "text/html": [
       "<div>\n",
       "<style scoped>\n",
       "    .dataframe tbody tr th:only-of-type {\n",
       "        vertical-align: middle;\n",
       "    }\n",
       "\n",
       "    .dataframe tbody tr th {\n",
       "        vertical-align: top;\n",
       "    }\n",
       "\n",
       "    .dataframe thead th {\n",
       "        text-align: right;\n",
       "    }\n",
       "</style>\n",
       "<table border=\"1\" class=\"dataframe\">\n",
       "  <thead>\n",
       "    <tr style=\"text-align: right;\">\n",
       "      <th></th>\n",
       "      <th>product_id</th>\n",
       "      <th>tn</th>\n",
       "    </tr>\n",
       "  </thead>\n",
       "  <tbody>\n",
       "    <tr>\n",
       "      <th>0</th>\n",
       "      <td>20001</td>\n",
       "      <td>1162.914886</td>\n",
       "    </tr>\n",
       "    <tr>\n",
       "      <th>1</th>\n",
       "      <td>20002</td>\n",
       "      <td>1182.845672</td>\n",
       "    </tr>\n",
       "    <tr>\n",
       "      <th>2</th>\n",
       "      <td>20003</td>\n",
       "      <td>684.835899</td>\n",
       "    </tr>\n",
       "    <tr>\n",
       "      <th>3</th>\n",
       "      <td>20004</td>\n",
       "      <td>627.215328</td>\n",
       "    </tr>\n",
       "    <tr>\n",
       "      <th>4</th>\n",
       "      <td>20005</td>\n",
       "      <td>668.270104</td>\n",
       "    </tr>\n",
       "    <tr>\n",
       "      <th>...</th>\n",
       "      <td>...</td>\n",
       "      <td>...</td>\n",
       "    </tr>\n",
       "    <tr>\n",
       "      <th>775</th>\n",
       "      <td>21263</td>\n",
       "      <td>0.029993</td>\n",
       "    </tr>\n",
       "    <tr>\n",
       "      <th>776</th>\n",
       "      <td>21265</td>\n",
       "      <td>0.089541</td>\n",
       "    </tr>\n",
       "    <tr>\n",
       "      <th>777</th>\n",
       "      <td>21266</td>\n",
       "      <td>0.094659</td>\n",
       "    </tr>\n",
       "    <tr>\n",
       "      <th>778</th>\n",
       "      <td>21267</td>\n",
       "      <td>0.092835</td>\n",
       "    </tr>\n",
       "    <tr>\n",
       "      <th>779</th>\n",
       "      <td>21276</td>\n",
       "      <td>0.045447</td>\n",
       "    </tr>\n",
       "  </tbody>\n",
       "</table>\n",
       "<p>780 rows × 2 columns</p>\n",
       "</div>"
      ],
      "text/plain": [
       "     product_id           tn\n",
       "0         20001  1162.914886\n",
       "1         20002  1182.845672\n",
       "2         20003   684.835899\n",
       "3         20004   627.215328\n",
       "4         20005   668.270104\n",
       "..          ...          ...\n",
       "775       21263     0.029993\n",
       "776       21265     0.089541\n",
       "777       21266     0.094659\n",
       "778       21267     0.092835\n",
       "779       21276     0.045447\n",
       "\n",
       "[780 rows x 2 columns]"
      ]
     },
     "execution_count": 20,
     "metadata": {},
     "output_type": "execute_result"
    }
   ],
   "source": [
    "df_pred_processed"
   ]
  },
  {
   "cell_type": "markdown",
   "id": "6d2992fe",
   "metadata": {},
   "source": [
    "## Guardar predicciones"
   ]
  },
  {
   "cell_type": "code",
   "execution_count": 21,
   "id": "79967b02",
   "metadata": {},
   "outputs": [],
   "source": [
    "df_pred_processed.to_csv((base_dir / \"data/predict/final/product_id_clase_6_modelo_reg_simple_v1_magicos.csv\"), index=False)"
   ]
  },
  {
   "cell_type": "markdown",
   "id": "71b77584",
   "metadata": {},
   "source": [
    "## Aplico otra alternativa"
   ]
  },
  {
   "cell_type": "code",
   "execution_count": 22,
   "id": "9acaa6f2",
   "metadata": {},
   "outputs": [
    {
     "data": {
      "text/html": [
       "<div>\n",
       "<style scoped>\n",
       "    .dataframe tbody tr th:only-of-type {\n",
       "        vertical-align: middle;\n",
       "    }\n",
       "\n",
       "    .dataframe tbody tr th {\n",
       "        vertical-align: top;\n",
       "    }\n",
       "\n",
       "    .dataframe thead th {\n",
       "        text-align: right;\n",
       "    }\n",
       "</style>\n",
       "<table border=\"1\" class=\"dataframe\">\n",
       "  <thead>\n",
       "    <tr style=\"text-align: right;\">\n",
       "      <th></th>\n",
       "      <th>product_id</th>\n",
       "      <th>tn</th>\n",
       "    </tr>\n",
       "  </thead>\n",
       "  <tbody>\n",
       "    <tr>\n",
       "      <th>0</th>\n",
       "      <td>20001</td>\n",
       "      <td>1417.654896</td>\n",
       "    </tr>\n",
       "    <tr>\n",
       "      <th>1</th>\n",
       "      <td>20002</td>\n",
       "      <td>1441.951581</td>\n",
       "    </tr>\n",
       "    <tr>\n",
       "      <th>2</th>\n",
       "      <td>20003</td>\n",
       "      <td>834.851266</td>\n",
       "    </tr>\n",
       "    <tr>\n",
       "      <th>3</th>\n",
       "      <td>20004</td>\n",
       "      <td>627.215328</td>\n",
       "    </tr>\n",
       "    <tr>\n",
       "      <th>4</th>\n",
       "      <td>20005</td>\n",
       "      <td>668.270104</td>\n",
       "    </tr>\n",
       "    <tr>\n",
       "      <th>...</th>\n",
       "      <td>...</td>\n",
       "      <td>...</td>\n",
       "    </tr>\n",
       "    <tr>\n",
       "      <th>775</th>\n",
       "      <td>21263</td>\n",
       "      <td>0.029993</td>\n",
       "    </tr>\n",
       "    <tr>\n",
       "      <th>776</th>\n",
       "      <td>21265</td>\n",
       "      <td>0.089541</td>\n",
       "    </tr>\n",
       "    <tr>\n",
       "      <th>777</th>\n",
       "      <td>21266</td>\n",
       "      <td>0.094659</td>\n",
       "    </tr>\n",
       "    <tr>\n",
       "      <th>778</th>\n",
       "      <td>21267</td>\n",
       "      <td>0.092835</td>\n",
       "    </tr>\n",
       "    <tr>\n",
       "      <th>779</th>\n",
       "      <td>21276</td>\n",
       "      <td>0.045447</td>\n",
       "    </tr>\n",
       "  </tbody>\n",
       "</table>\n",
       "<p>780 rows × 2 columns</p>\n",
       "</div>"
      ],
      "text/plain": [
       "     product_id           tn\n",
       "0         20001  1417.654896\n",
       "1         20002  1441.951581\n",
       "2         20003   834.851266\n",
       "3         20004   627.215328\n",
       "4         20005   668.270104\n",
       "..          ...          ...\n",
       "775       21263     0.029993\n",
       "776       21265     0.089541\n",
       "777       21266     0.094659\n",
       "778       21267     0.092835\n",
       "779       21276     0.045447\n",
       "\n",
       "[780 rows x 2 columns]"
      ]
     },
     "execution_count": 22,
     "metadata": {},
     "output_type": "execute_result"
    }
   ],
   "source": [
    "# Crear una función para calcular el valor según el criterio\n",
    "def calcular_valor(group, product_id):\n",
    "    if product_id in product_id_coef:\n",
    "        # Para productos en la lista: multiplicar tn por coeficiente del periodo y sumar\n",
    "        group['tn_ajustado'] = group.apply(lambda row: row['tn'] * coef_dict[row['periodo']], axis=1)\n",
    "        suma_ponderada = group['tn_ajustado'].sum()\n",
    "        suma_coeficientes = sum(coef_dict[periodo] for periodo in group['periodo'])\n",
    "        return suma_ponderada / suma_coeficientes  # Promedio ponderado\n",
    "    else:\n",
    "        # Para productos NO en la lista: calcular promedio\n",
    "        return group['tn'].mean()\n",
    "\n",
    "# Aplicar la función agrupando por product_id\n",
    "resultado = sell_in_agrup_2019.groupby('product_id').apply(lambda x: calcular_valor(x, x.name), include_groups=False).reset_index()\n",
    "resultado.columns = ['product_id', 'tn']\n",
    "\n",
    "# Mostrar el resultado\n",
    "resultado"
   ]
  },
  {
   "cell_type": "code",
   "execution_count": 23,
   "id": "20b25073",
   "metadata": {},
   "outputs": [],
   "source": [
    "df_pred_processed = df_pred.merge(resultado[[\"product_id\",\"tn\"]], on='product_id', how='left', suffixes=('', '_baseline'))"
   ]
  },
  {
   "cell_type": "code",
   "execution_count": 24,
   "id": "340ea78e",
   "metadata": {},
   "outputs": [
    {
     "data": {
      "text/html": [
       "<div>\n",
       "<style scoped>\n",
       "    .dataframe tbody tr th:only-of-type {\n",
       "        vertical-align: middle;\n",
       "    }\n",
       "\n",
       "    .dataframe tbody tr th {\n",
       "        vertical-align: top;\n",
       "    }\n",
       "\n",
       "    .dataframe thead th {\n",
       "        text-align: right;\n",
       "    }\n",
       "</style>\n",
       "<table border=\"1\" class=\"dataframe\">\n",
       "  <thead>\n",
       "    <tr style=\"text-align: right;\">\n",
       "      <th></th>\n",
       "      <th>product_id</th>\n",
       "      <th>tn</th>\n",
       "    </tr>\n",
       "  </thead>\n",
       "  <tbody>\n",
       "    <tr>\n",
       "      <th>0</th>\n",
       "      <td>20001</td>\n",
       "      <td>1417.654896</td>\n",
       "    </tr>\n",
       "    <tr>\n",
       "      <th>1</th>\n",
       "      <td>20002</td>\n",
       "      <td>1441.951581</td>\n",
       "    </tr>\n",
       "    <tr>\n",
       "      <th>2</th>\n",
       "      <td>20003</td>\n",
       "      <td>834.851266</td>\n",
       "    </tr>\n",
       "    <tr>\n",
       "      <th>3</th>\n",
       "      <td>20004</td>\n",
       "      <td>627.215328</td>\n",
       "    </tr>\n",
       "    <tr>\n",
       "      <th>4</th>\n",
       "      <td>20005</td>\n",
       "      <td>668.270104</td>\n",
       "    </tr>\n",
       "    <tr>\n",
       "      <th>...</th>\n",
       "      <td>...</td>\n",
       "      <td>...</td>\n",
       "    </tr>\n",
       "    <tr>\n",
       "      <th>775</th>\n",
       "      <td>21263</td>\n",
       "      <td>0.029993</td>\n",
       "    </tr>\n",
       "    <tr>\n",
       "      <th>776</th>\n",
       "      <td>21265</td>\n",
       "      <td>0.089541</td>\n",
       "    </tr>\n",
       "    <tr>\n",
       "      <th>777</th>\n",
       "      <td>21266</td>\n",
       "      <td>0.094659</td>\n",
       "    </tr>\n",
       "    <tr>\n",
       "      <th>778</th>\n",
       "      <td>21267</td>\n",
       "      <td>0.092835</td>\n",
       "    </tr>\n",
       "    <tr>\n",
       "      <th>779</th>\n",
       "      <td>21276</td>\n",
       "      <td>0.045447</td>\n",
       "    </tr>\n",
       "  </tbody>\n",
       "</table>\n",
       "<p>780 rows × 2 columns</p>\n",
       "</div>"
      ],
      "text/plain": [
       "     product_id           tn\n",
       "0         20001  1417.654896\n",
       "1         20002  1441.951581\n",
       "2         20003   834.851266\n",
       "3         20004   627.215328\n",
       "4         20005   668.270104\n",
       "..          ...          ...\n",
       "775       21263     0.029993\n",
       "776       21265     0.089541\n",
       "777       21266     0.094659\n",
       "778       21267     0.092835\n",
       "779       21276     0.045447\n",
       "\n",
       "[780 rows x 2 columns]"
      ]
     },
     "execution_count": 24,
     "metadata": {},
     "output_type": "execute_result"
    }
   ],
   "source": [
    "df_pred_processed"
   ]
  },
  {
   "cell_type": "code",
   "execution_count": 25,
   "id": "28ae9c02",
   "metadata": {},
   "outputs": [],
   "source": [
    "df_pred_processed.to_csv((base_dir / \"data/predict/final/product_id_clase_6_modelo_reg_simple_v1_alternativa_2_magicos.csv\"), index=False)\n"
   ]
  }
 ],
 "metadata": {
  "kernelspec": {
   "display_name": "labo_3_env",
   "language": "python",
   "name": "python3"
  },
  "language_info": {
   "codemirror_mode": {
    "name": "ipython",
    "version": 3
   },
   "file_extension": ".py",
   "mimetype": "text/x-python",
   "name": "python",
   "nbconvert_exporter": "python",
   "pygments_lexer": "ipython3",
   "version": "3.11.13"
  }
 },
 "nbformat": 4,
 "nbformat_minor": 5
}
