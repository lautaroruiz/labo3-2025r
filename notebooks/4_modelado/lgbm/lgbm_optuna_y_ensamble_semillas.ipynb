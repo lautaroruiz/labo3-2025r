{
 "cells": [
  {
   "cell_type": "markdown",
   "id": "012695bf",
   "metadata": {},
   "source": [
    "# Entrenamiento modelo LGBM\n",
    "\n",
    "Esta notebook presenta el ajuste final de un modelo LightGBM para predecir las ventas del mes 2020-02.\n",
    "\n",
    "El trabajo que se muestra es el resultado de un proceso iterativo de prueba y error, en el que se exploraron múltiples configuraciones de hiperparámetros, conjuntos de variables y estrategias de validación, sin que todas las variantes previas hayan logrado mejoras consistentes en las métricas de interés (RMSE y MAE, ni en el public de Kaggle).\n",
    "\n",
    "Este punto de la experimentación representa la consolidación de las decisiones que aportaron valor al modelo final."
   ]
  },
  {
   "cell_type": "code",
   "execution_count": null,
   "id": "fa53ab4e",
   "metadata": {},
   "outputs": [],
   "source": [
    "import psutil\n",
    "import pandas as pd\n",
    "import numpy as np\n",
    "import seaborn as sns\n",
    "import lightgbm as lgb\n",
    "from matplotlib import pyplot as plt\n",
    "from sklearn.metrics import mean_absolute_error, mean_squared_error\n",
    "\n",
    "import warnings\n",
    "warnings.filterwarnings('ignore')"
   ]
  },
  {
   "cell_type": "code",
   "execution_count": 2,
   "id": "aabb0642",
   "metadata": {},
   "outputs": [
    {
     "data": {
      "text/plain": [
       "WindowsPath('C:/Users/lauta/Desktop/Lautaro/maestria_ds/labo3/repo-entrega')"
      ]
     },
     "execution_count": 2,
     "metadata": {},
     "output_type": "execute_result"
    }
   ],
   "source": [
    "from src.utils.utils import get_base_dir\n",
    "base_dir = get_base_dir()\n",
    "base_dir"
   ]
  },
  {
   "cell_type": "markdown",
   "id": "321b53ab",
   "metadata": {},
   "source": [
    "### 1. Carga de datos"
   ]
  },
  {
   "cell_type": "code",
   "execution_count": 3,
   "id": "03748a29",
   "metadata": {},
   "outputs": [
    {
     "name": "stdout",
     "output_type": "stream",
     "text": [
      "Registros a predecir: 780\n"
     ]
    },
    {
     "data": {
      "text/html": [
       "<div>\n",
       "<style scoped>\n",
       "    .dataframe tbody tr th:only-of-type {\n",
       "        vertical-align: middle;\n",
       "    }\n",
       "\n",
       "    .dataframe tbody tr th {\n",
       "        vertical-align: top;\n",
       "    }\n",
       "\n",
       "    .dataframe thead th {\n",
       "        text-align: right;\n",
       "    }\n",
       "</style>\n",
       "<table border=\"1\" class=\"dataframe\">\n",
       "  <thead>\n",
       "    <tr style=\"text-align: right;\">\n",
       "      <th></th>\n",
       "      <th>product_id</th>\n",
       "    </tr>\n",
       "  </thead>\n",
       "  <tbody>\n",
       "    <tr>\n",
       "      <th>0</th>\n",
       "      <td>20001</td>\n",
       "    </tr>\n",
       "    <tr>\n",
       "      <th>1</th>\n",
       "      <td>20002</td>\n",
       "    </tr>\n",
       "    <tr>\n",
       "      <th>2</th>\n",
       "      <td>20003</td>\n",
       "    </tr>\n",
       "    <tr>\n",
       "      <th>3</th>\n",
       "      <td>20004</td>\n",
       "    </tr>\n",
       "    <tr>\n",
       "      <th>4</th>\n",
       "      <td>20005</td>\n",
       "    </tr>\n",
       "  </tbody>\n",
       "</table>\n",
       "</div>"
      ],
      "text/plain": [
       "   product_id\n",
       "0       20001\n",
       "1       20002\n",
       "2       20003\n",
       "3       20004\n",
       "4       20005"
      ]
     },
     "execution_count": 3,
     "metadata": {},
     "output_type": "execute_result"
    }
   ],
   "source": [
    "# Cargar datos a predecir\n",
    "predict_file = base_dir / \"data/predict/raw/product_id_apredecir201912.txt\"\n",
    "df_pred_orig = pd.read_csv(predict_file, sep=\"\\t\", encoding=\"utf-8\")\n",
    "print(f\"Registros a predecir: {df_pred_orig.shape[0]}\")\n",
    "df_pred_orig.head()"
   ]
  },
  {
   "cell_type": "code",
   "execution_count": 4,
   "id": "30e32fa8",
   "metadata": {},
   "outputs": [
    {
     "data": {
      "text/plain": [
       "((465660, 79), (12516572, 79), (4128320, 79))"
      ]
     },
     "execution_count": 4,
     "metadata": {},
     "output_type": "execute_result"
    }
   ],
   "source": [
    "# leo directamente df_train, validation y predict\n",
    "df_train = pd.read_feather(base_dir / \"data/processed/df_train.feather\")\n",
    "df_validation = pd.read_feather(base_dir / \"data/processed/df_validation.feather\")\n",
    "df_predict = pd.read_feather(base_dir / \"data/processed/df_predict.feather\")\n",
    "\n",
    "# dimensiones particiones post-procesamiento\n",
    "df_predict.shape, df_train.shape, df_validation.shape"
   ]
  },
  {
   "cell_type": "code",
   "execution_count": 5,
   "id": "222a2802",
   "metadata": {},
   "outputs": [],
   "source": [
    "new_cols = ['venta_t-2', 'venta_t-3', 'venta_t-6',\n",
    "       'venta_t-9', 'venta_t-12', 'venta_t-24', 'media_3m', 'std_3m',\n",
    "       'suma_3m', 'max_3m', 'min_3m', 'media_6m', 'std_6m', 'suma_6m',\n",
    "       'max_6m', 'min_6m', 'media_9m', 'std_9m', 'suma_9m', 'max_9m', 'min_9m',\n",
    "       'media_12m', 'std_12m', 'suma_12m', 'max_12m', 'min_12m', 'media_24m',\n",
    "       'std_24m', 'suma_24m', 'max_24m', 'min_24m', 'pct_change_2_4m',\n",
    "       'pct_change_4_7m', 'tendencia_2_4m', 'tendencia_4_6m', 'venta_año_ant',\n",
    "       'mes_sin', 'mes_cos', 'trimestre_sin', 'trimestre_cos', 'es_enero',\n",
    "       'es_diciembre', 'es_verano', 'es_invierno', 'producto_media_historica',\n",
    "       'producto_volatilidad', 'cliente_media_historica', 'momentum_3m',\n",
    "       'momentum_6m', 'aceleracion', 'categoria_media', 'vs_categoria',\n",
    "       'marca_media', 'vs_marca', 'meses_sin_venta', 'frecuencia_compras_12m',\n",
    "       'VarMensualGral', 'VarMensualAlim', 'IndiceMensualGral',\n",
    "       'IndiceMensualAlim', 'dolar']\n",
    "numerical_features = new_cols + [\"mes\", \"año\", \"trimestre\", \"a_predecir\"]\n",
    "categorical_features = [\"product_id\", \"customer_id\", 'cat1', 'cat2', 'cat3', 'brand', 'descripcion']\n",
    "model_features = numerical_features + categorical_features"
   ]
  },
  {
   "cell_type": "code",
   "execution_count": 6,
   "id": "df8c0363",
   "metadata": {},
   "outputs": [
    {
     "name": "stdout",
     "output_type": "stream",
     "text": [
      "Memoria RAM disponible: 4.90 GB\n"
     ]
    }
   ],
   "source": [
    "# check memoria ram\n",
    "mem = psutil.virtual_memory()\n",
    "print(f\"Memoria RAM disponible: {mem.available / (1024**3):.2f} GB\")"
   ]
  },
  {
   "cell_type": "markdown",
   "id": "e4fd7a95",
   "metadata": {},
   "source": [
    "## Entrenamiento del modelo"
   ]
  },
  {
   "cell_type": "code",
   "execution_count": 7,
   "id": "2ec2f82d",
   "metadata": {},
   "outputs": [],
   "source": [
    "import optuna\n",
    "\n",
    "def objective(trial):\n",
    "    params = {\n",
    "        'learning_rate': trial.suggest_float('learning_rate', 0.01, 0.3, log=True),\n",
    "        'num_leaves': trial.suggest_int('num_leaves', 15, 127),\n",
    "        'max_depth': trial.suggest_int('max_depth', 5, 12),\n",
    "        'colsample_bytree': trial.suggest_float('colsample_bytree', 0.4, 1.0),\n",
    "        'subsample': trial.suggest_float('subsample', 0.7, 1.0),\n",
    "        'min_child_samples': trial.suggest_int('min_child_samples', 5, 100),\n",
    "        'reg_alpha': trial.suggest_float('reg_alpha', 0.0, 1.0),\n",
    "        'reg_lambda': trial.suggest_float('reg_lambda', 0.0, 1.0),\n",
    "        'n_estimators': trial.suggest_int('n_estimators', 100, 1000)\n",
    "    }\n",
    "\n",
    "    # probar con 3 semillas distintas\n",
    "    seeds = [42, 96, 22]\n",
    "    rmse_values = []\n",
    "\n",
    "    for seed in seeds:\n",
    "\n",
    "        model = lgb.LGBMRegressor(**params,\n",
    "            objective='regression',\n",
    "            metric='rmse',\n",
    "            boosting_type='gbdt',\n",
    "            random_state=seed,\n",
    "            verbosity=-1)\n",
    "\n",
    "        model.fit(\n",
    "            df_train[model_features], df_train[\"target\"],\n",
    "            eval_set=[(df_validation[model_features], df_validation[\"target\"])],\n",
    "            eval_metric='rmse',\n",
    "            categorical_feature=categorical_features,\n",
    "            callbacks=[lgb.early_stopping(50, verbose=False)]\n",
    "        )\n",
    "\n",
    "        preds = model.predict(df_validation[model_features])\n",
    "        rmse = np.sqrt(mean_squared_error(df_validation[\"target\"], preds))\n",
    "        rmse_values.append(rmse)\n",
    "\n",
    "\n",
    "\n",
    "    return np.mean(rmse_values)"
   ]
  },
  {
   "cell_type": "code",
   "execution_count": 8,
   "id": "34a6603a",
   "metadata": {},
   "outputs": [
    {
     "name": "stderr",
     "output_type": "stream",
     "text": [
      "[I 2025-08-10 11:51:26,392] Using an existing study with name 'lgbm_regression_optuna' instead of creating a new one.\n"
     ]
    },
    {
     "name": "stdout",
     "output_type": "stream",
     "text": [
      "Comenzando la optimización con Optuna...\n"
     ]
    },
    {
     "data": {
      "application/vnd.jupyter.widget-view+json": {
       "model_id": "27a74de4d9d24ec989af7dfc5bd48e88",
       "version_major": 2,
       "version_minor": 0
      },
      "text/plain": [
       "  0%|          | 0/50 [00:00<?, ?it/s]"
      ]
     },
     "metadata": {},
     "output_type": "display_data"
    },
    {
     "name": "stdout",
     "output_type": "stream",
     "text": [
      "[I 2025-08-10 11:58:21,304] Trial 2 finished with value: 0.7496802890828063 and parameters: {'learning_rate': 0.01687419508606365, 'num_leaves': 123, 'max_depth': 11, 'colsample_bytree': 0.8290262199183336, 'subsample': 0.721454421913562, 'min_child_samples': 55, 'reg_alpha': 0.6187094704138628, 'reg_lambda': 0.795407032102261, 'n_estimators': 551}. Best is trial 2 with value: 0.7496802890828063.\n",
      "[I 2025-08-10 12:02:17,631] Trial 3 finished with value: 0.7531592666378666 and parameters: {'learning_rate': 0.06377519356730126, 'num_leaves': 73, 'max_depth': 11, 'colsample_bytree': 0.994922461777236, 'subsample': 0.7910095344854962, 'min_child_samples': 50, 'reg_alpha': 0.13895006450650138, 'reg_lambda': 0.01404260940931279, 'n_estimators': 970}. Best is trial 2 with value: 0.7496802890828063.\n",
      "[I 2025-08-10 12:08:55,471] Trial 4 finished with value: 0.7585433408124821 and parameters: {'learning_rate': 0.13338057862066038, 'num_leaves': 39, 'max_depth': 5, 'colsample_bytree': 0.6129373134950336, 'subsample': 0.7520237867800896, 'min_child_samples': 65, 'reg_alpha': 0.6599730192149441, 'reg_lambda': 0.26421693717001926, 'n_estimators': 113}. Best is trial 2 with value: 0.7496802890828063.\n",
      "[I 2025-08-10 12:14:29,092] Trial 5 finished with value: 0.762744785050633 and parameters: {'learning_rate': 0.1651033799314769, 'num_leaves': 124, 'max_depth': 11, 'colsample_bytree': 0.9918482324939702, 'subsample': 0.938394080825885, 'min_child_samples': 25, 'reg_alpha': 0.27522796238072944, 'reg_lambda': 0.5755903731193341, 'n_estimators': 977}. Best is trial 2 with value: 0.7496802890828063.\n",
      "[I 2025-08-10 12:22:21,924] Trial 6 finished with value: 0.7594012930614572 and parameters: {'learning_rate': 0.010432886249044124, 'num_leaves': 118, 'max_depth': 6, 'colsample_bytree': 0.8029475638421961, 'subsample': 0.9575792010854132, 'min_child_samples': 64, 'reg_alpha': 0.4151360712575093, 'reg_lambda': 0.5124307352405642, 'n_estimators': 908}. Best is trial 2 with value: 0.7496802890828063.\n",
      "[I 2025-08-10 12:26:24,469] Trial 7 finished with value: 0.7610637640022638 and parameters: {'learning_rate': 0.029829610631954977, 'num_leaves': 75, 'max_depth': 5, 'colsample_bytree': 0.681049464176397, 'subsample': 0.8786050835182824, 'min_child_samples': 27, 'reg_alpha': 0.14902528495596368, 'reg_lambda': 0.17822510801872593, 'n_estimators': 696}. Best is trial 2 with value: 0.7496802890828063.\n",
      "[I 2025-08-10 12:27:33,445] Trial 8 finished with value: 0.767018329892105 and parameters: {'learning_rate': 0.22475949810600604, 'num_leaves': 113, 'max_depth': 6, 'colsample_bytree': 0.7752369287553025, 'subsample': 0.7223164121802258, 'min_child_samples': 48, 'reg_alpha': 0.3653494113093826, 'reg_lambda': 0.5004155837837879, 'n_estimators': 999}. Best is trial 2 with value: 0.7496802890828063.\n",
      "[I 2025-08-10 12:31:11,343] Trial 9 finished with value: 0.7529907389337266 and parameters: {'learning_rate': 0.03777336009509314, 'num_leaves': 25, 'max_depth': 7, 'colsample_bytree': 0.6249604634782283, 'subsample': 0.9907174205971953, 'min_child_samples': 97, 'reg_alpha': 0.004592508295316211, 'reg_lambda': 0.0669938453004032, 'n_estimators': 605}. Best is trial 2 with value: 0.7496802890828063.\n",
      "[I 2025-08-10 12:35:12,326] Trial 10 finished with value: 0.7542101120753512 and parameters: {'learning_rate': 0.016916548672087948, 'num_leaves': 115, 'max_depth': 12, 'colsample_bytree': 0.6962628132857331, 'subsample': 0.9051779878519559, 'min_child_samples': 23, 'reg_alpha': 0.3333575270475011, 'reg_lambda': 0.30766959958814366, 'n_estimators': 522}. Best is trial 2 with value: 0.7496802890828063.\n",
      "[I 2025-08-10 12:38:52,475] Trial 11 finished with value: 0.755021046982626 and parameters: {'learning_rate': 0.016085753839823056, 'num_leaves': 90, 'max_depth': 9, 'colsample_bytree': 0.8780903549438914, 'subsample': 0.8085342258608557, 'min_child_samples': 6, 'reg_alpha': 0.9136300850318622, 'reg_lambda': 0.9093248395323458, 'n_estimators': 327}. Best is trial 2 with value: 0.7496802890828063.\n",
      "[I 2025-08-10 12:44:23,530] Trial 12 finished with value: 0.756303721408297 and parameters: {'learning_rate': 0.045892681572283336, 'num_leaves': 49, 'max_depth': 8, 'colsample_bytree': 0.5278754592899376, 'subsample': 0.9996674147128032, 'min_child_samples': 100, 'reg_alpha': 0.6431572112423856, 'reg_lambda': 0.9144096357838075, 'n_estimators': 588}. Best is trial 2 with value: 0.7496802890828063.\n",
      "[I 2025-08-10 12:49:42,808] Trial 13 finished with value: 0.7557725166651691 and parameters: {'learning_rate': 0.03456014242070391, 'num_leaves': 16, 'max_depth': 8, 'colsample_bytree': 0.5877597974653885, 'subsample': 0.8339213935270224, 'min_child_samples': 94, 'reg_alpha': 0.6345049439254009, 'reg_lambda': 0.7097835261790568, 'n_estimators': 431}. Best is trial 2 with value: 0.7496802890828063.\n",
      "[I 2025-08-10 12:51:38,967] Trial 14 finished with value: 0.757214311990667 and parameters: {'learning_rate': 0.08249194964485013, 'num_leaves': 98, 'max_depth': 9, 'colsample_bytree': 0.8426979966087217, 'subsample': 0.7059652626235259, 'min_child_samples': 81, 'reg_alpha': 0.8964420848871156, 'reg_lambda': 0.9993258942055804, 'n_estimators': 701}. Best is trial 2 with value: 0.7496802890828063.\n",
      "[I 2025-08-10 12:54:59,278] Trial 15 finished with value: 0.7540544975993378 and parameters: {'learning_rate': 0.022420165259553166, 'num_leaves': 48, 'max_depth': 10, 'colsample_bytree': 0.8978697349359773, 'subsample': 0.7650354157685532, 'min_child_samples': 78, 'reg_alpha': 0.7687574158613517, 'reg_lambda': 0.7169210132345198, 'n_estimators': 737}. Best is trial 2 with value: 0.7496802890828063.\n",
      "[I 2025-08-10 12:59:02,545] Trial 16 finished with value: 0.7604992865440758 and parameters: {'learning_rate': 0.010065924928838706, 'num_leaves': 63, 'max_depth': 7, 'colsample_bytree': 0.7597617804076638, 'subsample': 0.8716206446600524, 'min_child_samples': 78, 'reg_alpha': 0.5243842121348079, 'reg_lambda': 0.3677215283396696, 'n_estimators': 376}. Best is trial 2 with value: 0.7496802890828063.\n",
      "[I 2025-08-10 13:03:50,551] Trial 17 finished with value: 0.7552252547778294 and parameters: {'learning_rate': 0.04414528158632865, 'num_leaves': 94, 'max_depth': 12, 'colsample_bytree': 0.4067245312755308, 'subsample': 0.9889190661060537, 'min_child_samples': 66, 'reg_alpha': 0.4984783372832252, 'reg_lambda': 0.6804469917424198, 'n_estimators': 551}. Best is trial 2 with value: 0.7496802890828063.\n",
      "[I 2025-08-10 13:06:01,980] Trial 18 finished with value: 0.7542438395255644 and parameters: {'learning_rate': 0.08745411648284562, 'num_leaves': 29, 'max_depth': 10, 'colsample_bytree': 0.6304909253347756, 'subsample': 0.8405642107760749, 'min_child_samples': 90, 'reg_alpha': 0.216880343865391, 'reg_lambda': 0.8229810552467216, 'n_estimators': 184}. Best is trial 2 with value: 0.7496802890828063.\n",
      "[I 2025-08-10 13:10:58,449] Trial 19 finished with value: 0.7564217833590648 and parameters: {'learning_rate': 0.026079768753753677, 'num_leaves': 58, 'max_depth': 7, 'colsample_bytree': 0.5317157768563142, 'subsample': 0.743393632913046, 'min_child_samples': 39, 'reg_alpha': 0.002878766029069668, 'reg_lambda': 0.4268570633989492, 'n_estimators': 831}. Best is trial 2 with value: 0.7496802890828063.\n",
      "[I 2025-08-10 13:15:13,121] Trial 20 finished with value: 0.7556555809312938 and parameters: {'learning_rate': 0.014189950502708817, 'num_leaves': 85, 'max_depth': 10, 'colsample_bytree': 0.728483659066078, 'subsample': 0.7928960268108077, 'min_child_samples': 11, 'reg_alpha': 0.7708853042473995, 'reg_lambda': 0.13392125421614637, 'n_estimators': 477}. Best is trial 2 with value: 0.7496802890828063.\n",
      "[I 2025-08-10 13:18:20,854] Trial 21 finished with value: 0.7572397149175116 and parameters: {'learning_rate': 0.02276614818103766, 'num_leaves': 104, 'max_depth': 7, 'colsample_bytree': 0.9425438098084806, 'subsample': 0.893765962994045, 'min_child_samples': 62, 'reg_alpha': 0.4957829709351116, 'reg_lambda': 0.6313466758175275, 'n_estimators': 616}. Best is trial 2 with value: 0.7496802890828063.\n",
      "[I 2025-08-10 13:19:57,734] Trial 22 finished with value: 0.7538816354057204 and parameters: {'learning_rate': 0.07340659156553192, 'num_leaves': 75, 'max_depth': 11, 'colsample_bytree': 0.9690954657682503, 'subsample': 0.7849656466377604, 'min_child_samples': 52, 'reg_alpha': 0.13689693341324993, 'reg_lambda': 0.01651943636689797, 'n_estimators': 808}. Best is trial 2 with value: 0.7496802890828063.\n",
      "[I 2025-08-10 13:22:01,866] Trial 23 finished with value: 0.7553468006650248 and parameters: {'learning_rate': 0.06096526484577215, 'num_leaves': 37, 'max_depth': 11, 'colsample_bytree': 0.9102544366810013, 'subsample': 0.8175537293659234, 'min_child_samples': 42, 'reg_alpha': 0.05401088459625024, 'reg_lambda': 0.13308517332220937, 'n_estimators': 622}. Best is trial 2 with value: 0.7496802890828063.\n",
      "[I 2025-08-10 13:23:28,600] Trial 24 finished with value: 0.7545460186356544 and parameters: {'learning_rate': 0.11782300839071586, 'num_leaves': 64, 'max_depth': 12, 'colsample_bytree': 0.847730436311753, 'subsample': 0.7264907346420106, 'min_child_samples': 54, 'reg_alpha': 0.21198227004106107, 'reg_lambda': 0.23391279169029755, 'n_estimators': 282}. Best is trial 2 with value: 0.7496802890828063.\n",
      "[I 2025-08-10 13:26:19,099] Trial 25 finished with value: 0.7533170815148192 and parameters: {'learning_rate': 0.039050021192187985, 'num_leaves': 80, 'max_depth': 9, 'colsample_bytree': 0.6689323849810669, 'subsample': 0.766919344605849, 'min_child_samples': 73, 'reg_alpha': 0.12164389765404794, 'reg_lambda': 0.01793496958269196, 'n_estimators': 780}. Best is trial 2 with value: 0.7496802890828063.\n",
      "[I 2025-08-10 13:28:38,162] Trial 26 finished with value: 0.7511760962554971 and parameters: {'learning_rate': 0.05327411988589478, 'num_leaves': 107, 'max_depth': 11, 'colsample_bytree': 0.8114615118112066, 'subsample': 0.8605050962711148, 'min_child_samples': 58, 'reg_alpha': 0.018205054598998176, 'reg_lambda': 0.11932950682534094, 'n_estimators': 408}. Best is trial 2 with value: 0.7496802890828063.\n",
      "[I 2025-08-10 13:31:26,736] Trial 27 finished with value: 0.75377017890571 and parameters: {'learning_rate': 0.05389705629726719, 'num_leaves': 105, 'max_depth': 10, 'colsample_bytree': 0.8045716830124198, 'subsample': 0.9725323578529431, 'min_child_samples': 90, 'reg_alpha': 0.7348081390952534, 'reg_lambda': 0.3887765299718486, 'n_estimators': 438}. Best is trial 2 with value: 0.7496802890828063.\n",
      "[I 2025-08-10 13:34:46,814] Trial 28 finished with value: 0.7539056717915779 and parameters: {'learning_rate': 0.01967240480706396, 'num_leaves': 126, 'max_depth': 8, 'colsample_bytree': 0.7451632957743636, 'subsample': 0.8599358881658148, 'min_child_samples': 57, 'reg_alpha': 0.013308352943517912, 'reg_lambda': 0.10780270995102897, 'n_estimators': 250}. Best is trial 2 with value: 0.7496802890828063.\n",
      "[I 2025-08-10 13:40:40,285] Trial 29 finished with value: 0.7500228614542802 and parameters: {'learning_rate': 0.029404223001551003, 'num_leaves': 104, 'max_depth': 12, 'colsample_bytree': 0.5627092487408984, 'subsample': 0.9138983787380005, 'min_child_samples': 70, 'reg_alpha': 0.5667047516663544, 'reg_lambda': 0.23488054210074566, 'n_estimators': 384}. Best is trial 2 with value: 0.7496802890828063.\n",
      "[I 2025-08-10 13:47:15,688] Trial 30 finished with value: 0.754652266487374 and parameters: {'learning_rate': 0.013483745108375085, 'num_leaves': 104, 'max_depth': 12, 'colsample_bytree': 0.49975248063504596, 'subsample': 0.9128573532085263, 'min_child_samples': 71, 'reg_alpha': 0.586260738431769, 'reg_lambda': 0.20072482962627197, 'n_estimators': 366}. Best is trial 2 with value: 0.7496802890828063.\n",
      "[I 2025-08-10 13:51:57,032] Trial 31 finished with value: 0.7530432765045251 and parameters: {'learning_rate': 0.03118312057298256, 'num_leaves': 107, 'max_depth': 11, 'colsample_bytree': 0.4667244068655496, 'subsample': 0.9278408780526037, 'min_child_samples': 33, 'reg_alpha': 0.4243609968991376, 'reg_lambda': 0.2903896421752034, 'n_estimators': 503}. Best is trial 2 with value: 0.7496802890828063.\n",
      "[I 2025-08-10 13:55:59,308] Trial 32 finished with value: 0.7534079726951856 and parameters: {'learning_rate': 0.05009461776279036, 'num_leaves': 120, 'max_depth': 12, 'colsample_bytree': 0.5545107514132783, 'subsample': 0.9492544157528152, 'min_child_samples': 46, 'reg_alpha': 0.5640486994225469, 'reg_lambda': 0.08771067830379509, 'n_estimators': 440}. Best is trial 2 with value: 0.7496802890828063.\n",
      "[I 2025-08-10 13:59:22,350] Trial 33 finished with value: 0.753993827305532 and parameters: {'learning_rate': 0.03650802075773106, 'num_leaves': 111, 'max_depth': 11, 'colsample_bytree': 0.6512278438850626, 'subsample': 0.9729291678231793, 'min_child_samples': 59, 'reg_alpha': 0.8401150530698761, 'reg_lambda': 0.06044416565749394, 'n_estimators': 644}. Best is trial 2 with value: 0.7496802890828063.\n",
      "[I 2025-08-10 14:03:53,378] Trial 34 finished with value: 0.752932676691387 and parameters: {'learning_rate': 0.026906827264607646, 'num_leaves': 100, 'max_depth': 10, 'colsample_bytree': 0.7185230736432161, 'subsample': 0.8928938797279834, 'min_child_samples': 85, 'reg_alpha': 0.2337280421144865, 'reg_lambda': 0.1735871277662568, 'n_estimators': 560}. Best is trial 2 with value: 0.7496802890828063.\n",
      "[I 2025-08-10 14:07:55,275] Trial 35 finished with value: 0.7516569234382707 and parameters: {'learning_rate': 0.026005650194662666, 'num_leaves': 95, 'max_depth': 11, 'colsample_bytree': 0.716540522883966, 'subsample': 0.8816671076842657, 'min_child_samples': 86, 'reg_alpha': 0.7142653023853665, 'reg_lambda': 0.3302239109323275, 'n_estimators': 391}. Best is trial 2 with value: 0.7496802890828063.\n",
      "[I 2025-08-10 14:11:50,579] Trial 36 finished with value: 0.7511612368941826 and parameters: {'learning_rate': 0.0192849169646445, 'num_leaves': 91, 'max_depth': 11, 'colsample_bytree': 0.8019824443186855, 'subsample': 0.8656441260191883, 'min_child_samples': 70, 'reg_alpha': 0.7005095440784148, 'reg_lambda': 0.3264850974674537, 'n_estimators': 387}. Best is trial 2 with value: 0.7496802890828063.\n",
      "[I 2025-08-10 14:15:37,026] Trial 37 finished with value: 0.7555589307198463 and parameters: {'learning_rate': 0.012669686075644846, 'num_leaves': 127, 'max_depth': 12, 'colsample_bytree': 0.8102936053896307, 'subsample': 0.8584603701734588, 'min_child_samples': 70, 'reg_alpha': 0.682932604609721, 'reg_lambda': 0.4500218823040624, 'n_estimators': 286}. Best is trial 2 with value: 0.7496802890828063.\n",
      "[I 2025-08-10 14:18:11,468] Trial 38 finished with value: 0.7555710877944436 and parameters: {'learning_rate': 0.01905417186046446, 'num_leaves': 86, 'max_depth': 11, 'colsample_bytree': 0.8453704903046962, 'subsample': 0.9237853072730347, 'min_child_samples': 67, 'reg_alpha': 0.43629849975243973, 'reg_lambda': 0.24375959854644966, 'n_estimators': 208}. Best is trial 2 with value: 0.7496802890828063.\n",
      "[I 2025-08-10 14:22:04,241] Trial 39 finished with value: 0.753803492082883 and parameters: {'learning_rate': 0.011767892296518881, 'num_leaves': 119, 'max_depth': 11, 'colsample_bytree': 0.783793845278388, 'subsample': 0.8245414259015507, 'min_child_samples': 58, 'reg_alpha': 0.9704592916789142, 'reg_lambda': 0.5648839184174259, 'n_estimators': 313}. Best is trial 2 with value: 0.7496802890828063.\n",
      "[I 2025-08-10 14:24:18,708] Trial 40 finished with value: 0.7631374374798651 and parameters: {'learning_rate': 0.0202732307176809, 'num_leaves': 111, 'max_depth': 12, 'colsample_bytree': 0.8729379492964797, 'subsample': 0.8465323818398526, 'min_child_samples': 75, 'reg_alpha': 0.609718509139476, 'reg_lambda': 0.4606488290524951, 'n_estimators': 142}. Best is trial 2 with value: 0.7496802890828063.\n",
      "[I 2025-08-10 14:25:52,354] Trial 41 finished with value: 0.7547708477664369 and parameters: {'learning_rate': 0.11442437052847206, 'num_leaves': 89, 'max_depth': 10, 'colsample_bytree': 0.8145909422979188, 'subsample': 0.8737993077264982, 'min_child_samples': 45, 'reg_alpha': 0.32708383985366357, 'reg_lambda': 0.20162566472620858, 'n_estimators': 461}. Best is trial 2 with value: 0.7496802890828063.\n",
      "[I 2025-08-10 14:30:08,818] Trial 42 finished with value: 0.7526866938490175 and parameters: {'learning_rate': 0.01583869859768579, 'num_leaves': 95, 'max_depth': 11, 'colsample_bytree': 0.7176722820905939, 'subsample': 0.8902311995278054, 'min_child_samples': 85, 'reg_alpha': 0.7102704893342549, 'reg_lambda': 0.3506304598291864, 'n_estimators': 384}. Best is trial 2 with value: 0.7496802890828063.\n",
      "[I 2025-08-10 14:34:03,772] Trial 43 finished with value: 0.749963171193306 and parameters: {'learning_rate': 0.027890905423939377, 'num_leaves': 119, 'max_depth': 12, 'colsample_bytree': 0.7702735106330917, 'subsample': 0.9037539497995514, 'min_child_samples': 63, 'reg_alpha': 0.8062140457847501, 'reg_lambda': 0.31803604441619077, 'n_estimators': 398}. Best is trial 2 with value: 0.7496802890828063.\n",
      "[I 2025-08-10 14:37:28,803] Trial 44 finished with value: 0.7492642211180814 and parameters: {'learning_rate': 0.029025374846065963, 'num_leaves': 120, 'max_depth': 12, 'colsample_bytree': 0.7763279112936259, 'subsample': 0.9095663870468578, 'min_child_samples': 63, 'reg_alpha': 0.8260314946886063, 'reg_lambda': 0.2899332016107982, 'n_estimators': 338}. Best is trial 44 with value: 0.7492642211180814.\n",
      "[I 2025-08-10 14:40:25,068] Trial 45 finished with value: 0.7500237862284536 and parameters: {'learning_rate': 0.030715350130027203, 'num_leaves': 120, 'max_depth': 12, 'colsample_bytree': 0.7616055955946613, 'subsample': 0.9337243203010677, 'min_child_samples': 64, 'reg_alpha': 0.8396527358239213, 'reg_lambda': 0.2733491116181627, 'n_estimators': 350}. Best is trial 44 with value: 0.7492642211180814.\n",
      "[I 2025-08-10 14:43:39,061] Trial 46 finished with value: 0.7489979788302442 and parameters: {'learning_rate': 0.033298202348152534, 'num_leaves': 121, 'max_depth': 12, 'colsample_bytree': 0.7702280076072465, 'subsample': 0.9451048961270575, 'min_child_samples': 63, 'reg_alpha': 0.8261485784018764, 'reg_lambda': 0.2801548449048477, 'n_estimators': 335}. Best is trial 46 with value: 0.7489979788302442.\n",
      "[I 2025-08-10 14:46:13,878] Trial 47 finished with value: 0.7527726649472798 and parameters: {'learning_rate': 0.042473608796591594, 'num_leaves': 116, 'max_depth': 12, 'colsample_bytree': 0.684147934639239, 'subsample': 0.9515905230258382, 'min_child_samples': 52, 'reg_alpha': 0.816890159204493, 'reg_lambda': 0.40287128367643354, 'n_estimators': 219}. Best is trial 46 with value: 0.7489979788302442.\n",
      "[I 2025-08-10 14:51:07,971] Trial 48 finished with value: 0.7515096042898669 and parameters: {'learning_rate': 0.023180502602604555, 'num_leaves': 123, 'max_depth': 12, 'colsample_bytree': 0.5858092659678205, 'subsample': 0.9134430908980764, 'min_child_samples': 62, 'reg_alpha': 0.9927619175421971, 'reg_lambda': 0.5459525506696585, 'n_estimators': 311}. Best is trial 46 with value: 0.7489979788302442.\n",
      "[I 2025-08-10 14:53:39,616] Trial 49 finished with value: 0.7500156845447364 and parameters: {'learning_rate': 0.03321843703786278, 'num_leaves': 113, 'max_depth': 12, 'colsample_bytree': 0.7700142986937489, 'subsample': 0.9681058551961256, 'min_child_samples': 48, 'reg_alpha': 0.8814539074139561, 'reg_lambda': 0.24984082266761215, 'n_estimators': 507}. Best is trial 46 with value: 0.7489979788302442.\n",
      "[I 2025-08-10 14:56:53,358] Trial 50 finished with value: 0.7499137461156344 and parameters: {'learning_rate': 0.03287484787420589, 'num_leaves': 114, 'max_depth': 12, 'colsample_bytree': 0.7733410180807727, 'subsample': 0.970621468796748, 'min_child_samples': 49, 'reg_alpha': 0.9103517335561094, 'reg_lambda': 0.82854322375672, 'n_estimators': 495}. Best is trial 46 with value: 0.7489979788302442.\n",
      "[I 2025-08-10 15:01:50,227] Trial 51 finished with value: 0.7500255937648687 and parameters: {'learning_rate': 0.01545402171523106, 'num_leaves': 123, 'max_depth': 12, 'colsample_bytree': 0.8316849854280455, 'subsample': 0.9429763310597784, 'min_child_samples': 33, 'reg_alpha': 0.796784612714615, 'reg_lambda': 0.8001415221539226, 'n_estimators': 661}. Best is trial 46 with value: 0.7489979788302442.\n",
      "\n",
      " Optimización completada...\n",
      "* Mejores hiperparámetros:\n",
      "{'learning_rate': 0.033298202348152534, 'num_leaves': 121, 'max_depth': 12, 'colsample_bytree': 0.7702280076072465, 'subsample': 0.9451048961270575, 'min_child_samples': 63, 'reg_alpha': 0.8261485784018764, 'reg_lambda': 0.2801548449048477, 'n_estimators': 335}\n",
      "* Mejor RMSE: 0.7490\n",
      "\n",
      " Para ver el dashboard ejecutar en terminal:\n",
      "cd notebooks/4_modelado/lgbm\n",
      "optuna-dashboard sqlite:///lgbm_study.db\n"
     ]
    }
   ],
   "source": [
    "# Configuración de Optuna\n",
    "storage_url = \"sqlite:///lgbm_study.db\"\n",
    "\n",
    "# Crear o cargar el estudio\n",
    "study = optuna.create_study(\n",
    "    direction='minimize',\n",
    "    study_name=\"lgbm_regression_optuna\",\n",
    "    storage=storage_url,\n",
    "    load_if_exists=True\n",
    ")\n",
    "\n",
    "\n",
    "# Encolar tu conjunto inicial de hiperparámetros\n",
    "study.enqueue_trial({\n",
    "    'learning_rate': 0.01687419508606365,\n",
    "    'num_leaves': 123,\n",
    "    'max_depth': 11,\n",
    "    'colsample_bytree': 0.8290262199183336,\n",
    "    'subsample': 0.721454421913562,\n",
    "    'min_child_samples': 55,\n",
    "    'reg_alpha': 0.6187094704138628,\n",
    "    'reg_lambda': 0.795407032102261,\n",
    "    'n_estimators': 551\n",
    "})\n",
    "\n",
    "print(\"Comenzando la optimización con Optuna...\")\n",
    "study.optimize(objective, n_trials=50, show_progress_bar=True)\n",
    "\n",
    "print(\"\\n Optimización completada...\")\n",
    "print(\"* Mejores hiperparámetros:\")\n",
    "print(study.best_params)\n",
    "print(f\"* Mejor RMSE: {study.best_value:.4f}\")\n",
    "\n",
    "print(\"\\n Para ver el dashboard ejecutar en terminal:\")\n",
    "print(\"cd notebooks/4_modelado/lgbm\")\n",
    "print(\"optuna-dashboard sqlite:///lgbm_study.db\")"
   ]
  },
  {
   "cell_type": "code",
   "execution_count": 9,
   "id": "c889d259",
   "metadata": {},
   "outputs": [
    {
     "name": "stdout",
     "output_type": "stream",
     "text": [
      "Mejores hiperparámetros:\n",
      "{'learning_rate': 0.033298202348152534, 'num_leaves': 121, 'max_depth': 12, 'colsample_bytree': 0.7702280076072465, 'subsample': 0.9451048961270575, 'min_child_samples': 63, 'reg_alpha': 0.8261485784018764, 'reg_lambda': 0.2801548449048477, 'n_estimators': 335}\n"
     ]
    }
   ],
   "source": [
    "print(\"Mejores hiperparámetros:\")\n",
    "print(study.best_params)"
   ]
  },
  {
   "cell_type": "code",
   "execution_count": 10,
   "id": "5aa142c9",
   "metadata": {},
   "outputs": [
    {
     "name": "stdout",
     "output_type": "stream",
     "text": [
      "Mejor RMSE en validación: 0.7490\n"
     ]
    }
   ],
   "source": [
    "print(f\"Mejor RMSE en validación: {study.best_value:.4f}\")"
   ]
  },
  {
   "cell_type": "code",
   "execution_count": 11,
   "id": "6d3659eb",
   "metadata": {},
   "outputs": [
    {
     "name": "stdout",
     "output_type": "stream",
     "text": [
      "Training until validation scores don't improve for 50 rounds\n",
      "Early stopping, best iteration is:\n",
      "[252]\tvalid_0's rmse: 0.748459\n",
      "Training until validation scores don't improve for 50 rounds\n",
      "Early stopping, best iteration is:\n",
      "[278]\tvalid_0's rmse: 0.749062\n",
      "Training until validation scores don't improve for 50 rounds\n",
      "Early stopping, best iteration is:\n",
      "[161]\tvalid_0's rmse: 0.753943\n",
      "Training until validation scores don't improve for 50 rounds\n",
      "Early stopping, best iteration is:\n",
      "[154]\tvalid_0's rmse: 0.752781\n",
      "Training until validation scores don't improve for 50 rounds\n",
      "Did not meet early stopping. Best iteration is:\n",
      "[287]\tvalid_0's rmse: 0.748173\n",
      "Training until validation scores don't improve for 50 rounds\n",
      "Early stopping, best iteration is:\n",
      "[269]\tvalid_0's rmse: 0.750242\n",
      "Training until validation scores don't improve for 50 rounds\n",
      "Did not meet early stopping. Best iteration is:\n",
      "[298]\tvalid_0's rmse: 0.751533\n",
      "Training until validation scores don't improve for 50 rounds\n",
      "Did not meet early stopping. Best iteration is:\n",
      "[307]\tvalid_0's rmse: 0.748804\n",
      "Training until validation scores don't improve for 50 rounds\n",
      "Early stopping, best iteration is:\n",
      "[255]\tvalid_0's rmse: 0.749294\n",
      "Training until validation scores don't improve for 50 rounds\n",
      "Early stopping, best iteration is:\n",
      "[265]\tvalid_0's rmse: 0.753271\n",
      "Training until validation scores don't improve for 50 rounds\n",
      "Did not meet early stopping. Best iteration is:\n",
      "[286]\tvalid_0's rmse: 0.752355\n",
      "Training until validation scores don't improve for 50 rounds\n",
      "Early stopping, best iteration is:\n",
      "[159]\tvalid_0's rmse: 0.752849\n",
      "Training until validation scores don't improve for 50 rounds\n",
      "Early stopping, best iteration is:\n",
      "[249]\tvalid_0's rmse: 0.748452\n",
      "Training until validation scores don't improve for 50 rounds\n",
      "Early stopping, best iteration is:\n",
      "[152]\tvalid_0's rmse: 0.751766\n",
      "Training until validation scores don't improve for 50 rounds\n",
      "Early stopping, best iteration is:\n",
      "[195]\tvalid_0's rmse: 0.75041\n",
      "Métricas en validación:\n",
      "MAE: 0.0429 ± 0.0002\n",
      "RMSE: 0.7508 ± 0.0019\n",
      "Correlación: 0.6015 ± 0.0023\n"
     ]
    }
   ],
   "source": [
    "# Entrenar 15 modelos con diferentes semillas aleatorias\n",
    "n_models = 15\n",
    "models_list = []\n",
    "mae_valid_list = []\n",
    "rmse_valid_list = []\n",
    "correlation_list = []\n",
    "\n",
    "for i in range(n_models):\n",
    "    best_model = lgb.LGBMRegressor(\n",
    "        **study.best_params,\n",
    "        objective='regression',\n",
    "        metric='rmse',\n",
    "        boosting_type='gbdt',\n",
    "        random_state=42 + i,  # Diferente semilla para cada modelo\n",
    "    )\n",
    "\n",
    "    best_model.fit(\n",
    "        df_train[model_features], df_train[\"target\"],\n",
    "        eval_set=[(df_validation[model_features], df_validation[\"target\"])],\n",
    "        eval_metric='rmse',\n",
    "        categorical_feature=categorical_features,\n",
    "        callbacks=[lgb.early_stopping(50)]\n",
    "    )\n",
    "    models_list.append(best_model)\n",
    "    \n",
    "    # Predicciones en validación\n",
    "    y_pred_valid = best_model.predict(df_validation[model_features])\n",
    "\n",
    "    # Métricas de evaluación\n",
    "    mae_valid = mean_absolute_error(df_validation[\"target\"], y_pred_valid)\n",
    "    rmse_valid = np.sqrt(mean_squared_error(df_validation[\"target\"], y_pred_valid))\n",
    "    # Correlación entre predicciones y valores reales\n",
    "    correlation = np.corrcoef(df_validation[\"target\"], y_pred_valid)[0, 1]\n",
    "    \n",
    "    mae_valid_list.append(mae_valid)\n",
    "    rmse_valid_list.append(rmse_valid)\n",
    "    correlation_list.append(correlation)\n",
    "\n",
    "\n",
    "print(f\"Métricas en validación:\")\n",
    "print(f\"MAE: {np.mean(mae_valid_list):.4f} ± {np.std(mae_valid_list):.4f}\")\n",
    "print(f\"RMSE: {np.mean(rmse_valid_list):.4f} ± {np.std(rmse_valid_list):.4f}\")\n",
    "print(f\"Correlación: {np.mean(correlation_list):.4f} ± {np.std(correlation_list):.4f}\") \n",
    "\n"
   ]
  },
  {
   "cell_type": "markdown",
   "id": "f29d628f",
   "metadata": {},
   "source": [
    "### 7. Evaluación del modelo"
   ]
  },
  {
   "cell_type": "code",
   "execution_count": 12,
   "id": "e59d6619",
   "metadata": {},
   "outputs": [
    {
     "data": {
      "image/png": "[encoded data removed]",
      "text/plain": [
       "<Figure size 1000x800 with 1 Axes>"
      ]
     },
     "metadata": {},
     "output_type": "display_data"
    },
    {
     "name": "stdout",
     "output_type": "stream",
     "text": [
      "Top 20 features más importantes:\n"
     ]
    },
    {
     "data": {
      "text/html": [
       "<div>\n",
       "<style scoped>\n",
       "    .dataframe tbody tr th:only-of-type {\n",
       "        vertical-align: middle;\n",
       "    }\n",
       "\n",
       "    .dataframe tbody tr th {\n",
       "        vertical-align: top;\n",
       "    }\n",
       "\n",
       "    .dataframe thead th {\n",
       "        text-align: right;\n",
       "    }\n",
       "</style>\n",
       "<table border=\"1\" class=\"dataframe\">\n",
       "  <thead>\n",
       "    <tr style=\"text-align: right;\">\n",
       "      <th></th>\n",
       "      <th>feature</th>\n",
       "      <th>importance</th>\n",
       "    </tr>\n",
       "  </thead>\n",
       "  <tbody>\n",
       "    <tr>\n",
       "      <th>45</th>\n",
       "      <td>product_id</td>\n",
       "      <td>3344.0</td>\n",
       "    </tr>\n",
       "    <tr>\n",
       "      <th>13</th>\n",
       "      <td>customer_id</td>\n",
       "      <td>2967.0</td>\n",
       "    </tr>\n",
       "    <tr>\n",
       "      <th>43</th>\n",
       "      <td>pct_change_2_4m</td>\n",
       "      <td>1413.0</td>\n",
       "    </tr>\n",
       "    <tr>\n",
       "      <th>44</th>\n",
       "      <td>pct_change_4_7m</td>\n",
       "      <td>1274.0</td>\n",
       "    </tr>\n",
       "    <tr>\n",
       "      <th>65</th>\n",
       "      <td>venta_t-2</td>\n",
       "      <td>1077.0</td>\n",
       "    </tr>\n",
       "    <tr>\n",
       "      <th>14</th>\n",
       "      <td>descripcion</td>\n",
       "      <td>1013.0</td>\n",
       "    </tr>\n",
       "    <tr>\n",
       "      <th>21</th>\n",
       "      <td>marca_media</td>\n",
       "      <td>948.0</td>\n",
       "    </tr>\n",
       "    <tr>\n",
       "      <th>69</th>\n",
       "      <td>venta_t-9</td>\n",
       "      <td>911.0</td>\n",
       "    </tr>\n",
       "    <tr>\n",
       "      <th>64</th>\n",
       "      <td>venta_t-12</td>\n",
       "      <td>842.0</td>\n",
       "    </tr>\n",
       "    <tr>\n",
       "      <th>67</th>\n",
       "      <td>venta_t-3</td>\n",
       "      <td>764.0</td>\n",
       "    </tr>\n",
       "    <tr>\n",
       "      <th>71</th>\n",
       "      <td>vs_marca</td>\n",
       "      <td>756.0</td>\n",
       "    </tr>\n",
       "    <tr>\n",
       "      <th>42</th>\n",
       "      <td>momentum_6m</td>\n",
       "      <td>749.0</td>\n",
       "    </tr>\n",
       "    <tr>\n",
       "      <th>38</th>\n",
       "      <td>min_3m</td>\n",
       "      <td>709.0</td>\n",
       "    </tr>\n",
       "    <tr>\n",
       "      <th>39</th>\n",
       "      <td>min_6m</td>\n",
       "      <td>698.0</td>\n",
       "    </tr>\n",
       "    <tr>\n",
       "      <th>68</th>\n",
       "      <td>venta_t-6</td>\n",
       "      <td>694.0</td>\n",
       "    </tr>\n",
       "    <tr>\n",
       "      <th>41</th>\n",
       "      <td>momentum_3m</td>\n",
       "      <td>672.0</td>\n",
       "    </tr>\n",
       "    <tr>\n",
       "      <th>59</th>\n",
       "      <td>tendencia_4_6m</td>\n",
       "      <td>619.0</td>\n",
       "    </tr>\n",
       "    <tr>\n",
       "      <th>11</th>\n",
       "      <td>categoria_media</td>\n",
       "      <td>619.0</td>\n",
       "    </tr>\n",
       "    <tr>\n",
       "      <th>34</th>\n",
       "      <td>mes_sin</td>\n",
       "      <td>607.0</td>\n",
       "    </tr>\n",
       "    <tr>\n",
       "      <th>3</th>\n",
       "      <td>VarMensualGral</td>\n",
       "      <td>565.0</td>\n",
       "    </tr>\n",
       "  </tbody>\n",
       "</table>\n",
       "</div>"
      ],
      "text/plain": [
       "            feature  importance\n",
       "45       product_id      3344.0\n",
       "13      customer_id      2967.0\n",
       "43  pct_change_2_4m      1413.0\n",
       "44  pct_change_4_7m      1274.0\n",
       "65        venta_t-2      1077.0\n",
       "14      descripcion      1013.0\n",
       "21      marca_media       948.0\n",
       "69        venta_t-9       911.0\n",
       "64       venta_t-12       842.0\n",
       "67        venta_t-3       764.0\n",
       "71         vs_marca       756.0\n",
       "42      momentum_6m       749.0\n",
       "38           min_3m       709.0\n",
       "39           min_6m       698.0\n",
       "68        venta_t-6       694.0\n",
       "41      momentum_3m       672.0\n",
       "59   tendencia_4_6m       619.0\n",
       "11  categoria_media       619.0\n",
       "34          mes_sin       607.0\n",
       "3    VarMensualGral       565.0"
      ]
     },
     "metadata": {},
     "output_type": "display_data"
    }
   ],
   "source": [
    "# Importancia de feature\n",
    "modelo_para_fi = models_list[8]\n",
    "feature_importance = pd.DataFrame()\n",
    "\n",
    "for i in range(len(models_list)):\n",
    "    feature_importance = pd.DataFrame({\n",
    "        'feature': modelo_para_fi.feature_name_,\n",
    "        'importance': modelo_para_fi.feature_importances_\n",
    "    })#.sort_values('importance', ascending=False)\n",
    "    feature_importance = pd.concat([feature_importance, feature_importance], axis=0)\n",
    "\n",
    "\n",
    "feature_importance = feature_importance.groupby('feature').mean().reset_index().sort_values('importance', ascending=False)\n",
    "\n",
    "plt.figure(figsize=(10, 8))\n",
    "sns.barplot(data=feature_importance.head(20), x='importance', y='feature')\n",
    "plt.title('Top 20 Features más importantes')\n",
    "plt.xlabel('Importancia')\n",
    "plt.tight_layout()\n",
    "plt.show()\n",
    "\n",
    "print(\"Top 20 features más importantes:\")\n",
    "display(feature_importance.head(20))"
   ]
  },
  {
   "cell_type": "markdown",
   "id": "c91527d3",
   "metadata": {},
   "source": [
    "### 8. Predicciones para febrero 2020"
   ]
  },
  {
   "cell_type": "code",
   "execution_count": 13,
   "id": "df1b3117",
   "metadata": {},
   "outputs": [],
   "source": [
    "## predicciones para 202002\n",
    "# Predicciones en el conjunto de predicción\n",
    "preds_ensemble = np.zeros(df_predict.shape[0])\n",
    "for model in models_list:\n",
    "    preds_ensemble += model.predict(df_predict[model_features])\n",
    "preds_ensemble /= n_models  # Promedio de predicciones\n",
    "df_predict[\"predicted_target\"] = preds_ensemble\n",
    "df_predict[\"predicted_tn\"] = df_predict[\"predicted_target\"] + df_predict[\"venta_t-2\"]"
   ]
  },
  {
   "cell_type": "markdown",
   "id": "547cef6e",
   "metadata": {},
   "source": [
    "### 9. Guardar resultados"
   ]
  },
  {
   "cell_type": "code",
   "execution_count": 14,
   "id": "47096eeb",
   "metadata": {},
   "outputs": [
    {
     "name": "stdout",
     "output_type": "stream",
     "text": [
      "Productos en común con objetivo: 780 de 780\n"
     ]
    }
   ],
   "source": [
    "# Preparar resultados finales\n",
    "if len(df_predict) > 0:\n",
    "    results_final = df_predict[[\n",
    "        'product_id', 'customer_id', 'periodo', 'predicted_tn'\n",
    "    ]].copy()\n",
    "    results_final.columns = ['product_id', 'customer_id', 'periodo', 'tn']\n",
    "    \n",
    "    \n",
    "    # Comparar con predicciones objetivo\n",
    "    if 'df_pred_orig' in locals():\n",
    "        common_products = set(results_final['product_id']).intersection(set(df_pred_orig['product_id']))\n",
    "        print(f\"Productos en común con objetivo: {len(common_products)} de {len(df_pred_orig)}\")\n",
    "else:\n",
    "    print(\"No se pudieron generar predicciones\")"
   ]
  },
  {
   "cell_type": "code",
   "execution_count": 15,
   "id": "e0e2271b",
   "metadata": {},
   "outputs": [
    {
     "data": {
      "text/html": [
       "<div>\n",
       "<style scoped>\n",
       "    .dataframe tbody tr th:only-of-type {\n",
       "        vertical-align: middle;\n",
       "    }\n",
       "\n",
       "    .dataframe tbody tr th {\n",
       "        vertical-align: top;\n",
       "    }\n",
       "\n",
       "    .dataframe thead th {\n",
       "        text-align: right;\n",
       "    }\n",
       "</style>\n",
       "<table border=\"1\" class=\"dataframe\">\n",
       "  <thead>\n",
       "    <tr style=\"text-align: right;\">\n",
       "      <th></th>\n",
       "      <th>product_id</th>\n",
       "      <th>tn</th>\n",
       "    </tr>\n",
       "  </thead>\n",
       "  <tbody>\n",
       "    <tr>\n",
       "      <th>0</th>\n",
       "      <td>20001</td>\n",
       "      <td>1108.548208</td>\n",
       "    </tr>\n",
       "    <tr>\n",
       "      <th>1</th>\n",
       "      <td>20002</td>\n",
       "      <td>1224.437310</td>\n",
       "    </tr>\n",
       "    <tr>\n",
       "      <th>2</th>\n",
       "      <td>20003</td>\n",
       "      <td>675.753929</td>\n",
       "    </tr>\n",
       "    <tr>\n",
       "      <th>3</th>\n",
       "      <td>20004</td>\n",
       "      <td>539.719046</td>\n",
       "    </tr>\n",
       "    <tr>\n",
       "      <th>4</th>\n",
       "      <td>20005</td>\n",
       "      <td>536.671452</td>\n",
       "    </tr>\n",
       "    <tr>\n",
       "      <th>...</th>\n",
       "      <td>...</td>\n",
       "      <td>...</td>\n",
       "    </tr>\n",
       "    <tr>\n",
       "      <th>775</th>\n",
       "      <td>21263</td>\n",
       "      <td>0.694170</td>\n",
       "    </tr>\n",
       "    <tr>\n",
       "      <th>776</th>\n",
       "      <td>21265</td>\n",
       "      <td>0.737044</td>\n",
       "    </tr>\n",
       "    <tr>\n",
       "      <th>777</th>\n",
       "      <td>21266</td>\n",
       "      <td>0.738548</td>\n",
       "    </tr>\n",
       "    <tr>\n",
       "      <th>778</th>\n",
       "      <td>21267</td>\n",
       "      <td>0.710705</td>\n",
       "    </tr>\n",
       "    <tr>\n",
       "      <th>779</th>\n",
       "      <td>21276</td>\n",
       "      <td>0.695606</td>\n",
       "    </tr>\n",
       "  </tbody>\n",
       "</table>\n",
       "<p>780 rows × 2 columns</p>\n",
       "</div>"
      ],
      "text/plain": [
       "    product_id           tn\n",
       "0        20001  1108.548208\n",
       "1        20002  1224.437310\n",
       "2        20003   675.753929\n",
       "3        20004   539.719046\n",
       "4        20005   536.671452\n",
       "..         ...          ...\n",
       "775      21263     0.694170\n",
       "776      21265     0.737044\n",
       "777      21266     0.738548\n",
       "778      21267     0.710705\n",
       "779      21276     0.695606\n",
       "\n",
       "[780 rows x 2 columns]"
      ]
     },
     "execution_count": 15,
     "metadata": {},
     "output_type": "execute_result"
    }
   ],
   "source": [
    "df_prediction_grouped_product_id = df_predict.groupby(['product_id'])[\"predicted_tn\"].sum().reset_index()#.head(10)\n",
    "df_prediction_grouped_product_id.columns = [\"product_id\",\"tn\"]\n",
    "df_prediction_grouped_product_id = df_pred_orig.merge(df_prediction_grouped_product_id, on='product_id', how='left')\n",
    "df_prediction_grouped_product_id"
   ]
  },
  {
   "cell_type": "code",
   "execution_count": 16,
   "id": "d515ff55",
   "metadata": {},
   "outputs": [],
   "source": [
    "time_tag = pd.Timestamp.now().strftime(\"%Y%m%d_%H%M\")\n",
    "predict_file_processed = base_dir / f\"data/predict/final/lgbm_optuna_y_ensamble_semillas_{time_tag}.csv\"\n",
    "df_prediction_grouped_product_id[[\"product_id\",\"tn\"]].to_csv(predict_file_processed, index=False)"
   ]
  },
  {
   "cell_type": "code",
   "execution_count": 17,
   "id": "f3b64d03",
   "metadata": {},
   "outputs": [],
   "source": [
    "df_prediction_grouped_product_id_orig = df_prediction_grouped_product_id.copy()"
   ]
  },
  {
   "cell_type": "code",
   "execution_count": 18,
   "id": "2fb2f361",
   "metadata": {},
   "outputs": [],
   "source": [
    "# uso modelo solo para el top de productos (segun validation)\n",
    "df_prediction_grouped_product_id = df_prediction_grouped_product_id_orig.copy()\n",
    "top_productos = df_validation.groupby('product_id')['tn'].sum().reset_index().sort_values(by='tn', ascending=False).reset_index(drop=True)\n",
    "top_productos[\"tn_acum\"] = top_productos[\"tn\"].cumsum()\n",
    "top_productos[\"tn_acum\"] = top_productos[\"tn_acum\"] / top_productos[\"tn_acum\"].max() * 100\n",
    "top_productos = top_productos[top_productos[\"tn_acum\"] < 20][\"product_id\"].unique().tolist()\n",
    "\n",
    "predict_medias = pd.read_csv(base_dir / f\"data/predict/final/product_id_clase_3_ultimos_12_meses_20250613.csv\")\n",
    "df_prediction_grouped_product_id = df_prediction_grouped_product_id.merge(predict_medias, on='product_id', how='left', suffixes=('', '_magico'))\n",
    "df_prediction_grouped_product_id[\"es_top\"] = df_prediction_grouped_product_id[\"product_id\"].isin(top_productos)\n",
    "\n",
    "# para el top me quedo con el original, sino el magico\n",
    "df_prediction_grouped_product_id[\"tn2\"] = df_prediction_grouped_product_id[\"tn\"].where(df_prediction_grouped_product_id[\"es_top\"], df_prediction_grouped_product_id[\"tn_magico\"])\n",
    "df_prediction_grouped_product_id = df_prediction_grouped_product_id[[\"product_id\",\"tn2\"]]\n",
    "df_prediction_grouped_product_id.columns = [\"product_id\",\"tn\"]\n",
    "\n",
    "time_tag = pd.Timestamp.now().strftime(\"%Y%m%d_%H%M\")\n",
    "predict_file_processed = base_dir / f\"data/predict/final/lgbm_optuna_y_ensamble_semillas_top20_prod_y_medias_{time_tag}.csv\"\n",
    "df_prediction_grouped_product_id[[\"product_id\",\"tn\"]].to_csv(predict_file_processed, index=False)\n"
   ]
  },
  {
   "cell_type": "code",
   "execution_count": 19,
   "id": "4832b58b",
   "metadata": {},
   "outputs": [],
   "source": [
    "# uso modelo solo para el top de productos (segun validation)\n",
    "df_prediction_grouped_product_id = df_prediction_grouped_product_id_orig.copy()\n",
    "top_productos = df_validation.groupby('product_id')['tn'].sum().reset_index().sort_values(by='tn', ascending=False).reset_index(drop=True)\n",
    "top_productos[\"tn_acum\"] = top_productos[\"tn\"].cumsum()\n",
    "top_productos[\"tn_acum\"] = top_productos[\"tn_acum\"] / top_productos[\"tn_acum\"].max() * 100\n",
    "top_productos = top_productos[top_productos[\"tn_acum\"] < 20][\"product_id\"].unique().tolist()\n",
    "\n",
    "predict_magicos = pd.read_csv(base_dir / f\"data/predict/final/product_id_clase_6_modelo_reg_simple_v1_magicos.csv\")\n",
    "df_prediction_grouped_product_id = df_prediction_grouped_product_id.merge(predict_magicos, on='product_id', how='left', suffixes=('', '_magico'))\n",
    "df_prediction_grouped_product_id[\"es_top\"] = df_prediction_grouped_product_id[\"product_id\"].isin(top_productos)\n",
    "\n",
    "# para el top me quedo con el original, sino el magico\n",
    "df_prediction_grouped_product_id[\"tn2\"] = df_prediction_grouped_product_id[\"tn\"].where(df_prediction_grouped_product_id[\"es_top\"], df_prediction_grouped_product_id[\"tn_magico\"])\n",
    "df_prediction_grouped_product_id = df_prediction_grouped_product_id[[\"product_id\",\"tn2\"]]\n",
    "df_prediction_grouped_product_id.columns = [\"product_id\",\"tn\"]\n",
    "\n",
    "time_tag = pd.Timestamp.now().strftime(\"%Y%m%d_%H%M\")\n",
    "predict_file_processed = base_dir / f\"data/predict/final/lgbm_optuna_y_ensamble_semillas_top20_prod_y_magicos_{time_tag}.csv\"\n",
    "df_prediction_grouped_product_id[[\"product_id\",\"tn\"]].to_csv(predict_file_processed, index=False)\n"
   ]
  },
  {
   "cell_type": "code",
   "execution_count": 20,
   "id": "5a44b4cf",
   "metadata": {},
   "outputs": [],
   "source": [
    "# uso modelo solo para el top de productos (segun validation)\n",
    "df_prediction_grouped_product_id = df_prediction_grouped_product_id_orig.copy()\n",
    "top_productos = df_validation.groupby('product_id')['tn'].sum().reset_index().sort_values(by='tn', ascending=False).reset_index(drop=True)\n",
    "top_productos[\"tn_acum\"] = top_productos[\"tn\"].cumsum()\n",
    "top_productos[\"tn_acum\"] = top_productos[\"tn_acum\"] / top_productos[\"tn_acum\"].max() * 100\n",
    "top_productos = top_productos[top_productos[\"tn_acum\"] < 30][\"product_id\"].unique().tolist()\n",
    "\n",
    "predict_medias = pd.read_csv(base_dir / f\"data/predict/final/product_id_clase_3_ultimos_12_meses_20250613.csv\")\n",
    "df_prediction_grouped_product_id = df_prediction_grouped_product_id.merge(predict_medias, on='product_id', how='left', suffixes=('', '_magico'))\n",
    "df_prediction_grouped_product_id[\"es_top\"] = df_prediction_grouped_product_id[\"product_id\"].isin(top_productos)\n",
    "\n",
    "# para el top me quedo con el original, sino el magico\n",
    "df_prediction_grouped_product_id[\"tn2\"] = df_prediction_grouped_product_id[\"tn\"].where(df_prediction_grouped_product_id[\"es_top\"], df_prediction_grouped_product_id[\"tn_magico\"])\n",
    "df_prediction_grouped_product_id = df_prediction_grouped_product_id[[\"product_id\",\"tn2\"]]\n",
    "df_prediction_grouped_product_id.columns = [\"product_id\",\"tn\"]\n",
    "\n",
    "time_tag = pd.Timestamp.now().strftime(\"%Y%m%d_%H%M\")\n",
    "predict_file_processed = base_dir / f\"data/predict/final/lgbm_optuna_y_ensamble_semillas_top30_prod_y_medias_{time_tag}.csv\"\n",
    "df_prediction_grouped_product_id[[\"product_id\",\"tn\"]].to_csv(predict_file_processed, index=False)\n"
   ]
  },
  {
   "cell_type": "code",
   "execution_count": 21,
   "id": "03662d92",
   "metadata": {},
   "outputs": [],
   "source": [
    "# uso modelo solo para el top de productos (segun validation)\n",
    "df_prediction_grouped_product_id = df_prediction_grouped_product_id_orig.copy()\n",
    "top_productos = df_validation.groupby('product_id')['tn'].sum().reset_index().sort_values(by='tn', ascending=False).reset_index(drop=True)\n",
    "top_productos[\"tn_acum\"] = top_productos[\"tn\"].cumsum()\n",
    "top_productos[\"tn_acum\"] = top_productos[\"tn_acum\"] / top_productos[\"tn_acum\"].max() * 100\n",
    "top_productos = top_productos[top_productos[\"tn_acum\"] < 15][\"product_id\"].unique().tolist()\n",
    "\n",
    "predict_medias = pd.read_csv(base_dir / f\"data/predict/final/product_id_clase_3_ultimos_12_meses_20250613.csv\")\n",
    "df_prediction_grouped_product_id = df_prediction_grouped_product_id.merge(predict_medias, on='product_id', how='left', suffixes=('', '_magico'))\n",
    "df_prediction_grouped_product_id[\"es_top\"] = df_prediction_grouped_product_id[\"product_id\"].isin(top_productos)\n",
    "\n",
    "# para el top me quedo con el original, sino el magico\n",
    "df_prediction_grouped_product_id[\"tn2\"] = df_prediction_grouped_product_id[\"tn\"].where(df_prediction_grouped_product_id[\"es_top\"], df_prediction_grouped_product_id[\"tn_magico\"])\n",
    "df_prediction_grouped_product_id = df_prediction_grouped_product_id[[\"product_id\",\"tn2\"]]\n",
    "df_prediction_grouped_product_id.columns = [\"product_id\",\"tn\"]\n",
    "\n",
    "time_tag = pd.Timestamp.now().strftime(\"%Y%m%d_%H%M\")\n",
    "predict_file_processed = base_dir / f\"data/predict/final/lgbm_optuna_y_ensamble_semillas_top15_prod_y_medias_{time_tag}.csv\"\n",
    "df_prediction_grouped_product_id[[\"product_id\",\"tn\"]].to_csv(predict_file_processed, index=False)\n"
   ]
  },
  {
   "cell_type": "code",
   "execution_count": 22,
   "id": "cf2929bd",
   "metadata": {},
   "outputs": [],
   "source": [
    "# para los \"magicos\" uso el modelo, sino con el archivo de magicos...\n",
    "df_prediction_grouped_product_id = df_prediction_grouped_product_id_orig.copy()\n",
    "magicos = [20001,20002,20003,20006,20008,20010,20011,20017,20018,20019,20021,20026,20028,20035,20039,20042,20044,20045,20046,20049,20051,20052,20053,20055,20086,20180,20193,20320,20532,20612,20637,20807,20838]\n",
    "\n",
    "# importo el archivo\n",
    "\n",
    "predict_magicos = pd.read_csv(base_dir / f\"data/predict/final/product_id_clase_6_modelo_reg_simple_v1_magicos.csv\")\n",
    "\n",
    "\n",
    "df_prediction_grouped_product_id = df_prediction_grouped_product_id.merge(predict_magicos, on='product_id', how='left', suffixes=('', '_magico'))\n",
    "df_prediction_grouped_product_id[\"es_magico\"] = ~df_prediction_grouped_product_id[\"product_id\"].isin(magicos)\n",
    "\n",
    "df_prediction_grouped_product_id[\"tn2\"] = df_prediction_grouped_product_id[\"tn_magico\"].where(df_prediction_grouped_product_id[\"es_magico\"], df_prediction_grouped_product_id[\"tn\"])\n",
    "df_prediction_grouped_product_id = df_prediction_grouped_product_id[[\"product_id\",\"tn2\"]]\n",
    "df_prediction_grouped_product_id.columns = [\"product_id\",\"tn\"]\n",
    "\n",
    "time_tag = pd.Timestamp.now().strftime(\"%Y%m%d_%H%M\")\n",
    "predict_file_processed = base_dir / f\"data/predict/final/lgbm_optuna_y_ensamble_semillas_magicos_medias_{time_tag}.csv\"\n",
    "df_prediction_grouped_product_id[[\"product_id\",\"tn\"]].to_csv(predict_file_processed, index=False)"
   ]
  }
 ],
 "metadata": {
  "kernelspec": {
   "display_name": "labo_3_env",
   "language": "python",
   "name": "python3"
  },
  "language_info": {
   "codemirror_mode": {
    "name": "ipython",
    "version": 3
   },
   "file_extension": ".py",
   "mimetype": "text/x-python",
   "name": "python",
   "nbconvert_exporter": "python",
   "pygments_lexer": "ipython3",
   "version": "3.11.13"
  }
 },
 "nbformat": 4,
 "nbformat_minor": 5
}
