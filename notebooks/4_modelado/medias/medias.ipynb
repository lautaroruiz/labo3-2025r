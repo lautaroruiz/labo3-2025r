{
 "cells": [
  {
   "cell_type": "markdown",
   "id": "efd69bb9",
   "metadata": {},
   "source": [
    "# Propuesta \"Baseline\" y \"Medias\"\n",
    "\n",
    "* 1ro: Considerar el periodo 201912 para estimar \"base predict\" (202002).\n",
    "* 2do: Hacer promedios de los últimos n meses.\n",
    "* 3ro: Hacer promedios de los últimos n meses salteando de a t meses. "
   ]
  },
  {
   "cell_type": "markdown",
   "id": "fac6a72c",
   "metadata": {},
   "source": [
    "## Librerías"
   ]
  },
  {
   "cell_type": "code",
   "execution_count": 1,
   "id": "1b2d42f9",
   "metadata": {},
   "outputs": [],
   "source": [
    "import numpy as np\n",
    "import pandas as pd\n",
    "from src.utils.utils import get_base_dir"
   ]
  },
  {
   "cell_type": "markdown",
   "id": "6e467d44",
   "metadata": {},
   "source": [
    "## Importar conjunto de datos"
   ]
  },
  {
   "cell_type": "code",
   "execution_count": 2,
   "id": "8d63cf3a",
   "metadata": {},
   "outputs": [
    {
     "data": {
      "text/html": [
       "<div>\n",
       "<style scoped>\n",
       "    .dataframe tbody tr th:only-of-type {\n",
       "        vertical-align: middle;\n",
       "    }\n",
       "\n",
       "    .dataframe tbody tr th {\n",
       "        vertical-align: top;\n",
       "    }\n",
       "\n",
       "    .dataframe thead th {\n",
       "        text-align: right;\n",
       "    }\n",
       "</style>\n",
       "<table border=\"1\" class=\"dataframe\">\n",
       "  <thead>\n",
       "    <tr style=\"text-align: right;\">\n",
       "      <th></th>\n",
       "      <th>periodo</th>\n",
       "      <th>customer_id</th>\n",
       "      <th>product_id</th>\n",
       "      <th>plan_precios_cuidados</th>\n",
       "      <th>cust_request_qty</th>\n",
       "      <th>cust_request_tn</th>\n",
       "      <th>tn</th>\n",
       "    </tr>\n",
       "  </thead>\n",
       "  <tbody>\n",
       "    <tr>\n",
       "      <th>0</th>\n",
       "      <td>201701</td>\n",
       "      <td>10234</td>\n",
       "      <td>20524</td>\n",
       "      <td>0</td>\n",
       "      <td>2</td>\n",
       "      <td>0.05300</td>\n",
       "      <td>0.05300</td>\n",
       "    </tr>\n",
       "    <tr>\n",
       "      <th>1</th>\n",
       "      <td>201701</td>\n",
       "      <td>10032</td>\n",
       "      <td>20524</td>\n",
       "      <td>0</td>\n",
       "      <td>1</td>\n",
       "      <td>0.13628</td>\n",
       "      <td>0.13628</td>\n",
       "    </tr>\n",
       "    <tr>\n",
       "      <th>2</th>\n",
       "      <td>201701</td>\n",
       "      <td>10217</td>\n",
       "      <td>20524</td>\n",
       "      <td>0</td>\n",
       "      <td>1</td>\n",
       "      <td>0.03028</td>\n",
       "      <td>0.03028</td>\n",
       "    </tr>\n",
       "    <tr>\n",
       "      <th>3</th>\n",
       "      <td>201701</td>\n",
       "      <td>10125</td>\n",
       "      <td>20524</td>\n",
       "      <td>0</td>\n",
       "      <td>1</td>\n",
       "      <td>0.02271</td>\n",
       "      <td>0.02271</td>\n",
       "    </tr>\n",
       "    <tr>\n",
       "      <th>4</th>\n",
       "      <td>201701</td>\n",
       "      <td>10012</td>\n",
       "      <td>20524</td>\n",
       "      <td>0</td>\n",
       "      <td>11</td>\n",
       "      <td>1.54452</td>\n",
       "      <td>1.54452</td>\n",
       "    </tr>\n",
       "  </tbody>\n",
       "</table>\n",
       "</div>"
      ],
      "text/plain": [
       "   periodo  customer_id  product_id  plan_precios_cuidados  cust_request_qty  \\\n",
       "0   201701        10234       20524                      0                 2   \n",
       "1   201701        10032       20524                      0                 1   \n",
       "2   201701        10217       20524                      0                 1   \n",
       "3   201701        10125       20524                      0                 1   \n",
       "4   201701        10012       20524                      0                11   \n",
       "\n",
       "   cust_request_tn       tn  \n",
       "0          0.05300  0.05300  \n",
       "1          0.13628  0.13628  \n",
       "2          0.03028  0.03028  \n",
       "3          0.02271  0.02271  \n",
       "4          1.54452  1.54452  "
      ]
     },
     "execution_count": 2,
     "metadata": {},
     "output_type": "execute_result"
    }
   ],
   "source": [
    "base_dir = get_base_dir()\n",
    "sell_in = pd.read_csv(base_dir / \"data/raw/sell-in.txt\", sep=\"\\t\", encoding=\"utf-8\")\n",
    "sell_in.head()"
   ]
  },
  {
   "cell_type": "markdown",
   "id": "ad1ab24f",
   "metadata": {},
   "source": [
    "## Agrupar por periodo y producto (sumar toneladas totales)"
   ]
  },
  {
   "cell_type": "code",
   "execution_count": 3,
   "id": "fd0995ca",
   "metadata": {},
   "outputs": [
    {
     "data": {
      "text/html": [
       "<div>\n",
       "<style scoped>\n",
       "    .dataframe tbody tr th:only-of-type {\n",
       "        vertical-align: middle;\n",
       "    }\n",
       "\n",
       "    .dataframe tbody tr th {\n",
       "        vertical-align: top;\n",
       "    }\n",
       "\n",
       "    .dataframe thead th {\n",
       "        text-align: right;\n",
       "    }\n",
       "</style>\n",
       "<table border=\"1\" class=\"dataframe\">\n",
       "  <thead>\n",
       "    <tr style=\"text-align: right;\">\n",
       "      <th></th>\n",
       "      <th>periodo</th>\n",
       "      <th>product_id</th>\n",
       "      <th>tn</th>\n",
       "    </tr>\n",
       "  </thead>\n",
       "  <tbody>\n",
       "    <tr>\n",
       "      <th>0</th>\n",
       "      <td>201701</td>\n",
       "      <td>20001</td>\n",
       "      <td>934.77222</td>\n",
       "    </tr>\n",
       "    <tr>\n",
       "      <th>1</th>\n",
       "      <td>201701</td>\n",
       "      <td>20002</td>\n",
       "      <td>550.15707</td>\n",
       "    </tr>\n",
       "    <tr>\n",
       "      <th>2</th>\n",
       "      <td>201701</td>\n",
       "      <td>20003</td>\n",
       "      <td>1063.45835</td>\n",
       "    </tr>\n",
       "    <tr>\n",
       "      <th>3</th>\n",
       "      <td>201701</td>\n",
       "      <td>20004</td>\n",
       "      <td>555.91614</td>\n",
       "    </tr>\n",
       "    <tr>\n",
       "      <th>4</th>\n",
       "      <td>201701</td>\n",
       "      <td>20005</td>\n",
       "      <td>494.27011</td>\n",
       "    </tr>\n",
       "    <tr>\n",
       "      <th>...</th>\n",
       "      <td>...</td>\n",
       "      <td>...</td>\n",
       "      <td>...</td>\n",
       "    </tr>\n",
       "    <tr>\n",
       "      <th>31238</th>\n",
       "      <td>201912</td>\n",
       "      <td>21265</td>\n",
       "      <td>0.05007</td>\n",
       "    </tr>\n",
       "    <tr>\n",
       "      <th>31239</th>\n",
       "      <td>201912</td>\n",
       "      <td>21266</td>\n",
       "      <td>0.05121</td>\n",
       "    </tr>\n",
       "    <tr>\n",
       "      <th>31240</th>\n",
       "      <td>201912</td>\n",
       "      <td>21267</td>\n",
       "      <td>0.01569</td>\n",
       "    </tr>\n",
       "    <tr>\n",
       "      <th>31241</th>\n",
       "      <td>201912</td>\n",
       "      <td>21271</td>\n",
       "      <td>0.00298</td>\n",
       "    </tr>\n",
       "    <tr>\n",
       "      <th>31242</th>\n",
       "      <td>201912</td>\n",
       "      <td>21276</td>\n",
       "      <td>0.00892</td>\n",
       "    </tr>\n",
       "  </tbody>\n",
       "</table>\n",
       "<p>31243 rows × 3 columns</p>\n",
       "</div>"
      ],
      "text/plain": [
       "       periodo  product_id          tn\n",
       "0       201701       20001   934.77222\n",
       "1       201701       20002   550.15707\n",
       "2       201701       20003  1063.45835\n",
       "3       201701       20004   555.91614\n",
       "4       201701       20005   494.27011\n",
       "...        ...         ...         ...\n",
       "31238   201912       21265     0.05007\n",
       "31239   201912       21266     0.05121\n",
       "31240   201912       21267     0.01569\n",
       "31241   201912       21271     0.00298\n",
       "31242   201912       21276     0.00892\n",
       "\n",
       "[31243 rows x 3 columns]"
      ]
     },
     "execution_count": 3,
     "metadata": {},
     "output_type": "execute_result"
    }
   ],
   "source": [
    "data_baseline = sell_in.groupby(['periodo','product_id']).agg({'tn': 'sum'}).reset_index(drop=False)\n",
    "data_baseline"
   ]
  },
  {
   "cell_type": "markdown",
   "id": "1dcfa948",
   "metadata": {},
   "source": [
    "## Filtrar periodo 201912"
   ]
  },
  {
   "cell_type": "code",
   "execution_count": 4,
   "id": "84c03f5d",
   "metadata": {},
   "outputs": [
    {
     "data": {
      "text/html": [
       "<div>\n",
       "<style scoped>\n",
       "    .dataframe tbody tr th:only-of-type {\n",
       "        vertical-align: middle;\n",
       "    }\n",
       "\n",
       "    .dataframe tbody tr th {\n",
       "        vertical-align: top;\n",
       "    }\n",
       "\n",
       "    .dataframe thead th {\n",
       "        text-align: right;\n",
       "    }\n",
       "</style>\n",
       "<table border=\"1\" class=\"dataframe\">\n",
       "  <thead>\n",
       "    <tr style=\"text-align: right;\">\n",
       "      <th></th>\n",
       "      <th>periodo</th>\n",
       "      <th>product_id</th>\n",
       "      <th>tn</th>\n",
       "    </tr>\n",
       "  </thead>\n",
       "  <tbody>\n",
       "    <tr>\n",
       "      <th>0</th>\n",
       "      <td>201912</td>\n",
       "      <td>20001</td>\n",
       "      <td>1504.68856</td>\n",
       "    </tr>\n",
       "    <tr>\n",
       "      <th>1</th>\n",
       "      <td>201912</td>\n",
       "      <td>20002</td>\n",
       "      <td>1087.30855</td>\n",
       "    </tr>\n",
       "    <tr>\n",
       "      <th>2</th>\n",
       "      <td>201912</td>\n",
       "      <td>20003</td>\n",
       "      <td>892.50129</td>\n",
       "    </tr>\n",
       "    <tr>\n",
       "      <th>3</th>\n",
       "      <td>201912</td>\n",
       "      <td>20004</td>\n",
       "      <td>637.90002</td>\n",
       "    </tr>\n",
       "    <tr>\n",
       "      <th>4</th>\n",
       "      <td>201912</td>\n",
       "      <td>20005</td>\n",
       "      <td>593.24443</td>\n",
       "    </tr>\n",
       "    <tr>\n",
       "      <th>...</th>\n",
       "      <td>...</td>\n",
       "      <td>...</td>\n",
       "      <td>...</td>\n",
       "    </tr>\n",
       "    <tr>\n",
       "      <th>922</th>\n",
       "      <td>201912</td>\n",
       "      <td>21265</td>\n",
       "      <td>0.05007</td>\n",
       "    </tr>\n",
       "    <tr>\n",
       "      <th>923</th>\n",
       "      <td>201912</td>\n",
       "      <td>21266</td>\n",
       "      <td>0.05121</td>\n",
       "    </tr>\n",
       "    <tr>\n",
       "      <th>924</th>\n",
       "      <td>201912</td>\n",
       "      <td>21267</td>\n",
       "      <td>0.01569</td>\n",
       "    </tr>\n",
       "    <tr>\n",
       "      <th>925</th>\n",
       "      <td>201912</td>\n",
       "      <td>21271</td>\n",
       "      <td>0.00298</td>\n",
       "    </tr>\n",
       "    <tr>\n",
       "      <th>926</th>\n",
       "      <td>201912</td>\n",
       "      <td>21276</td>\n",
       "      <td>0.00892</td>\n",
       "    </tr>\n",
       "  </tbody>\n",
       "</table>\n",
       "<p>927 rows × 3 columns</p>\n",
       "</div>"
      ],
      "text/plain": [
       "     periodo  product_id          tn\n",
       "0     201912       20001  1504.68856\n",
       "1     201912       20002  1087.30855\n",
       "2     201912       20003   892.50129\n",
       "3     201912       20004   637.90002\n",
       "4     201912       20005   593.24443\n",
       "..       ...         ...         ...\n",
       "922   201912       21265     0.05007\n",
       "923   201912       21266     0.05121\n",
       "924   201912       21267     0.01569\n",
       "925   201912       21271     0.00298\n",
       "926   201912       21276     0.00892\n",
       "\n",
       "[927 rows x 3 columns]"
      ]
     },
     "execution_count": 4,
     "metadata": {},
     "output_type": "execute_result"
    }
   ],
   "source": [
    "data_baseline_201912 = data_baseline[data_baseline['periodo'] == 201912].reset_index(drop=True)\n",
    "data_baseline_201912"
   ]
  },
  {
   "cell_type": "markdown",
   "id": "9e215254",
   "metadata": {},
   "source": [
    "## Imoporto archivo a predecir"
   ]
  },
  {
   "cell_type": "code",
   "execution_count": 5,
   "id": "50d7d14b",
   "metadata": {},
   "outputs": [
    {
     "data": {
      "text/html": [
       "<div>\n",
       "<style scoped>\n",
       "    .dataframe tbody tr th:only-of-type {\n",
       "        vertical-align: middle;\n",
       "    }\n",
       "\n",
       "    .dataframe tbody tr th {\n",
       "        vertical-align: top;\n",
       "    }\n",
       "\n",
       "    .dataframe thead th {\n",
       "        text-align: right;\n",
       "    }\n",
       "</style>\n",
       "<table border=\"1\" class=\"dataframe\">\n",
       "  <thead>\n",
       "    <tr style=\"text-align: right;\">\n",
       "      <th></th>\n",
       "      <th>product_id</th>\n",
       "    </tr>\n",
       "  </thead>\n",
       "  <tbody>\n",
       "    <tr>\n",
       "      <th>0</th>\n",
       "      <td>20001</td>\n",
       "    </tr>\n",
       "    <tr>\n",
       "      <th>1</th>\n",
       "      <td>20002</td>\n",
       "    </tr>\n",
       "    <tr>\n",
       "      <th>2</th>\n",
       "      <td>20003</td>\n",
       "    </tr>\n",
       "    <tr>\n",
       "      <th>3</th>\n",
       "      <td>20004</td>\n",
       "    </tr>\n",
       "    <tr>\n",
       "      <th>4</th>\n",
       "      <td>20005</td>\n",
       "    </tr>\n",
       "    <tr>\n",
       "      <th>...</th>\n",
       "      <td>...</td>\n",
       "    </tr>\n",
       "    <tr>\n",
       "      <th>775</th>\n",
       "      <td>21263</td>\n",
       "    </tr>\n",
       "    <tr>\n",
       "      <th>776</th>\n",
       "      <td>21265</td>\n",
       "    </tr>\n",
       "    <tr>\n",
       "      <th>777</th>\n",
       "      <td>21266</td>\n",
       "    </tr>\n",
       "    <tr>\n",
       "      <th>778</th>\n",
       "      <td>21267</td>\n",
       "    </tr>\n",
       "    <tr>\n",
       "      <th>779</th>\n",
       "      <td>21276</td>\n",
       "    </tr>\n",
       "  </tbody>\n",
       "</table>\n",
       "<p>780 rows × 1 columns</p>\n",
       "</div>"
      ],
      "text/plain": [
       "     product_id\n",
       "0         20001\n",
       "1         20002\n",
       "2         20003\n",
       "3         20004\n",
       "4         20005\n",
       "..          ...\n",
       "775       21263\n",
       "776       21265\n",
       "777       21266\n",
       "778       21267\n",
       "779       21276\n",
       "\n",
       "[780 rows x 1 columns]"
      ]
     },
     "execution_count": 5,
     "metadata": {},
     "output_type": "execute_result"
    }
   ],
   "source": [
    "df_pred = pd.read_csv(base_dir / \"data/predict/raw/product_id_apredecir201912.txt\")\n",
    "df_pred"
   ]
  },
  {
   "cell_type": "markdown",
   "id": "b36d724f",
   "metadata": {},
   "source": [
    "## Merge archivo a predecir con base 201912"
   ]
  },
  {
   "cell_type": "code",
   "execution_count": 6,
   "id": "bf94dbd3",
   "metadata": {},
   "outputs": [],
   "source": [
    "df_pred_processed = df_pred.merge(data_baseline_201912[[\"product_id\",\"tn\"]], on='product_id', how='left', suffixes=('', '_baseline'))"
   ]
  },
  {
   "cell_type": "code",
   "execution_count": 9,
   "id": "d15de065",
   "metadata": {},
   "outputs": [],
   "source": [
    "df_pred_processed.to_csv((base_dir / \"data/predict/final/product_id_clase_3_20250613.csv\"), index=False)"
   ]
  },
  {
   "cell_type": "markdown",
   "id": "95e61def",
   "metadata": {},
   "source": [
    "## Ahora CONSIDERANDO PROMEDIOS"
   ]
  },
  {
   "cell_type": "code",
   "execution_count": 10,
   "id": "9a1b3432",
   "metadata": {},
   "outputs": [],
   "source": [
    "# obtener ultimos meses de un periodo dado\n",
    "def obtener_ultimos_meses(fin, n):\n",
    "    anio = fin // 100\n",
    "    mes = fin % 100\n",
    "    resultado = []\n",
    "\n",
    "    for _ in range(n):\n",
    "        resultado.append(anio * 100 + mes)\n",
    "        mes -= 1\n",
    "        if mes == 0:\n",
    "            mes = 12\n",
    "            anio -= 1\n",
    "\n",
    "    return resultado"
   ]
  },
  {
   "cell_type": "markdown",
   "id": "78986b97",
   "metadata": {},
   "source": [
    "### Promedio de los últimos 3 meses"
   ]
  },
  {
   "cell_type": "code",
   "execution_count": 11,
   "id": "12142482",
   "metadata": {},
   "outputs": [],
   "source": [
    "# promedio ultimos 3 meses\n",
    "n = 3\n",
    "data_baseline_promedio = data_baseline[data_baseline[\"periodo\"].isin(obtener_ultimos_meses(201912, n))].groupby(\"product_id\").agg({\"tn\": \"mean\"}).reset_index(drop=False)"
   ]
  },
  {
   "cell_type": "code",
   "execution_count": 12,
   "id": "90ef651a",
   "metadata": {},
   "outputs": [],
   "source": [
    "df_pred_processed_2 = df_pred.merge(data_baseline_promedio[[\"product_id\",\"tn\"]], on='product_id', how='left', suffixes=('', '_baseline'))"
   ]
  },
  {
   "cell_type": "code",
   "execution_count": 13,
   "id": "46159db7",
   "metadata": {},
   "outputs": [],
   "source": [
    "df_pred_processed_2.to_csv((base_dir / \"data/predict/final/product_id_clase_3_ultimos_3_meses_20250613.csv\"), index=False)"
   ]
  },
  {
   "cell_type": "markdown",
   "id": "00ea0960",
   "metadata": {},
   "source": [
    "### Promedio de los últimos 12 meses"
   ]
  },
  {
   "cell_type": "code",
   "execution_count": 14,
   "id": "56749991",
   "metadata": {},
   "outputs": [],
   "source": [
    "# promedio ultimos 12 meses\n",
    "n = 12\n",
    "data_baseline_promedio = data_baseline[data_baseline[\"periodo\"].isin(obtener_ultimos_meses(201912, n))].groupby(\"product_id\").agg({\"tn\": \"mean\"}).reset_index(drop=False)\n",
    "\n",
    "df_pred_processed_3 = df_pred.merge(data_baseline_promedio[[\"product_id\",\"tn\"]], on='product_id', how='left', suffixes=('', '_baseline'))\n",
    "\n",
    "df_pred_processed_3.to_csv((base_dir / \"data/predict/final/product_id_clase_3_ultimos_12_meses_20250613.csv\"), index=False)"
   ]
  },
  {
   "cell_type": "markdown",
   "id": "f705eb77",
   "metadata": {},
   "source": [
    "### Promedio de los últimos 24 meses"
   ]
  },
  {
   "cell_type": "code",
   "execution_count": 15,
   "id": "f858ff36",
   "metadata": {},
   "outputs": [],
   "source": [
    "# promedio ultimos n_meses\n",
    "n = 24\n",
    "data_baseline_promedio = data_baseline[data_baseline[\"periodo\"].isin(obtener_ultimos_meses(201912, n))].groupby(\"product_id\").agg({\"tn\": \"mean\"}).reset_index(drop=False)\n",
    "\n",
    "df_pred_processed_4 = df_pred.merge(data_baseline_promedio[[\"product_id\",\"tn\"]], on='product_id', how='left', suffixes=('', '_baseline'))\n",
    "\n",
    "df_pred_processed_4.to_csv((base_dir / \"data/predict/final/product_id_clase_3_ultimos_24_meses_20250613.csv\"), index=False)"
   ]
  },
  {
   "cell_type": "markdown",
   "id": "ecbe6018",
   "metadata": {},
   "source": [
    "### Promedio de los últimos 32 meses"
   ]
  },
  {
   "cell_type": "code",
   "execution_count": 16,
   "id": "952ebb3e",
   "metadata": {},
   "outputs": [],
   "source": [
    "# promedio ultimos n_meses\n",
    "n = 32\n",
    "data_baseline_promedio = data_baseline[data_baseline[\"periodo\"].isin(obtener_ultimos_meses(201912, n))].groupby(\"product_id\").agg({\"tn\": \"mean\"}).reset_index(drop=False)\n",
    "\n",
    "df_pred_processed_4 = df_pred.merge(data_baseline_promedio[[\"product_id\",\"tn\"]], on='product_id', how='left', suffixes=('', '_baseline'))\n",
    "\n",
    "df_pred_processed_4.to_csv((base_dir / \"data/predict/final/product_id_clase_3_ultimos_32_meses_20250613.csv\"), index=False)"
   ]
  },
  {
   "cell_type": "markdown",
   "id": "8a135ae1",
   "metadata": {},
   "source": [
    "## Prueba saltando meses"
   ]
  },
  {
   "cell_type": "code",
   "execution_count": 17,
   "id": "f6836d11",
   "metadata": {},
   "outputs": [],
   "source": [
    "def obtener_meses_salteando(fin, n, paso=1):\n",
    "    anio = fin // 100\n",
    "    mes = fin % 100\n",
    "    resultado = []\n",
    "\n",
    "    for _ in range(n):\n",
    "        resultado.append(anio * 100 + mes)\n",
    "        mes -= paso\n",
    "        while mes <= 0:\n",
    "            mes += 12\n",
    "            anio -= 1\n",
    "\n",
    "    return resultado"
   ]
  },
  {
   "cell_type": "markdown",
   "id": "60101060",
   "metadata": {},
   "source": [
    "### 18 meses"
   ]
  },
  {
   "cell_type": "code",
   "execution_count": 18,
   "id": "43f2591b",
   "metadata": {},
   "outputs": [],
   "source": [
    "n = 18\n",
    "data_baseline_promedio = data_baseline[data_baseline[\"periodo\"].isin(obtener_meses_salteando(201912, n))].groupby(\"product_id\").agg({\"tn\": \"mean\"}).reset_index(drop=False)\n",
    "\n",
    "df_pred_processed_4 = df_pred.merge(data_baseline_promedio[[\"product_id\",\"tn\"]], on='product_id', how='left', suffixes=('', '_baseline'))\n",
    "\n",
    "df_pred_processed_4.to_csv((base_dir / \"data/predict/final/product_id_clase_3_salteando_2_18_meses_20250613.csv\"), index=False)"
   ]
  },
  {
   "cell_type": "markdown",
   "id": "7765be4e",
   "metadata": {},
   "source": [
    "## 12 meses"
   ]
  },
  {
   "cell_type": "code",
   "execution_count": 19,
   "id": "a4738bc1",
   "metadata": {},
   "outputs": [],
   "source": [
    "n = 12\n",
    "data_baseline_promedio = data_baseline[data_baseline[\"periodo\"].isin(obtener_meses_salteando(201912, n))].groupby(\"product_id\").agg({\"tn\": \"mean\"}).reset_index(drop=False)\n",
    "\n",
    "df_pred_processed_4 = df_pred.merge(data_baseline_promedio[[\"product_id\",\"tn\"]], on='product_id', how='left', suffixes=('', '_baseline'))\n",
    "\n",
    "df_pred_processed_4.to_csv((base_dir / \"data/predict/final/product_id_clase_3_salteando_2_12_meses_20250613.csv\"), index=False)"
   ]
  }
 ],
 "metadata": {
  "kernelspec": {
   "display_name": "labo_3_env",
   "language": "python",
   "name": "python3"
  },
  "language_info": {
   "codemirror_mode": {
    "name": "ipython",
    "version": 3
   },
   "file_extension": ".py",
   "mimetype": "text/x-python",
   "name": "python",
   "nbconvert_exporter": "python",
   "pygments_lexer": "ipython3",
   "version": "3.11.13"
  }
 },
 "nbformat": 4,
 "nbformat_minor": 5
}
