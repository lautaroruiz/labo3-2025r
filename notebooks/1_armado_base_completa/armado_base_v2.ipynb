{
 "cells": [
  {
   "cell_type": "markdown",
   "id": "457f2289",
   "metadata": {},
   "source": [
    "## Armado del dataset a nivel periodo, producto y cliente"
   ]
  },
  {
   "cell_type": "code",
   "execution_count": 2,
   "id": "fdea83e5",
   "metadata": {},
   "outputs": [],
   "source": [
    "from src.utils.utils import get_base_dir\n",
    "import polars as pl"
   ]
  },
  {
   "cell_type": "code",
   "execution_count": 3,
   "id": "348189cb",
   "metadata": {},
   "outputs": [
    {
     "data": {
      "text/plain": [
       "WindowsPath('C:/Users/lauta/Desktop/Lautaro/maestria_ds/labo3/repo-entrega')"
      ]
     },
     "execution_count": 3,
     "metadata": {},
     "output_type": "execute_result"
    }
   ],
   "source": [
    "base_dir = get_base_dir()\n",
    "base_dir"
   ]
  },
  {
   "cell_type": "markdown",
   "id": "ef3c4625",
   "metadata": {},
   "source": [
    "## Importar base"
   ]
  },
  {
   "cell_type": "code",
   "execution_count": 4,
   "id": "689871e0",
   "metadata": {},
   "outputs": [],
   "source": [
    "# Paths\n",
    "DATA_PATH_SELL_IN = base_dir/ \"data/raw/sell-in.txt\"\n",
    "sell_in = pl.read_csv(DATA_PATH_SELL_IN, separator=\"\\t\")"
   ]
  },
  {
   "cell_type": "markdown",
   "id": "20f8117e",
   "metadata": {},
   "source": [
    "## Agrupo por producto y cliente (por periodo también)"
   ]
  },
  {
   "cell_type": "code",
   "execution_count": 5,
   "id": "325ccb98",
   "metadata": {},
   "outputs": [],
   "source": [
    "df = (\n",
    "    sell_in\n",
    "    .group_by([\"periodo\", \"customer_id\", \"product_id\"])\n",
    "    .agg(\n",
    "        pl.col(\"tn\").sum().alias(\"tn\")\n",
    "    )\n",
    ")\n",
    "del sell_in"
   ]
  },
  {
   "cell_type": "code",
   "execution_count": 6,
   "id": "8dcaa598",
   "metadata": {},
   "outputs": [
    {
     "data": {
      "text/html": [
       "<div><style>\n",
       ".dataframe > thead > tr,\n",
       ".dataframe > tbody > tr {\n",
       "  text-align: right;\n",
       "  white-space: pre-wrap;\n",
       "}\n",
       "</style>\n",
       "<small>shape: (2_945_818, 4)</small><table border=\"1\" class=\"dataframe\"><thead><tr><th>periodo</th><th>customer_id</th><th>product_id</th><th>tn</th></tr><tr><td>i64</td><td>i64</td><td>i64</td><td>f64</td></tr></thead><tbody><tr><td>201811</td><td>10016</td><td>20412</td><td>0.01373</td></tr><tr><td>201910</td><td>10095</td><td>20043</td><td>0.03494</td></tr><tr><td>201911</td><td>10244</td><td>20220</td><td>0.01906</td></tr><tr><td>201911</td><td>10035</td><td>20100</td><td>0.41933</td></tr><tr><td>201709</td><td>10167</td><td>20161</td><td>0.10571</td></tr><tr><td>&hellip;</td><td>&hellip;</td><td>&hellip;</td><td>&hellip;</td></tr><tr><td>201806</td><td>10041</td><td>20003</td><td>0.62244</td></tr><tr><td>201903</td><td>10092</td><td>20069</td><td>0.27955</td></tr><tr><td>201907</td><td>10128</td><td>20078</td><td>0.21157</td></tr><tr><td>201808</td><td>10310</td><td>20431</td><td>0.11466</td></tr><tr><td>201811</td><td>10074</td><td>20522</td><td>0.7775</td></tr></tbody></table></div>"
      ],
      "text/plain": [
       "shape: (2_945_818, 4)\n",
       "┌─────────┬─────────────┬────────────┬─────────┐\n",
       "│ periodo ┆ customer_id ┆ product_id ┆ tn      │\n",
       "│ ---     ┆ ---         ┆ ---        ┆ ---     │\n",
       "│ i64     ┆ i64         ┆ i64        ┆ f64     │\n",
       "╞═════════╪═════════════╪════════════╪═════════╡\n",
       "│ 201811  ┆ 10016       ┆ 20412      ┆ 0.01373 │\n",
       "│ 201910  ┆ 10095       ┆ 20043      ┆ 0.03494 │\n",
       "│ 201911  ┆ 10244       ┆ 20220      ┆ 0.01906 │\n",
       "│ 201911  ┆ 10035       ┆ 20100      ┆ 0.41933 │\n",
       "│ 201709  ┆ 10167       ┆ 20161      ┆ 0.10571 │\n",
       "│ …       ┆ …           ┆ …          ┆ …       │\n",
       "│ 201806  ┆ 10041       ┆ 20003      ┆ 0.62244 │\n",
       "│ 201903  ┆ 10092       ┆ 20069      ┆ 0.27955 │\n",
       "│ 201907  ┆ 10128       ┆ 20078      ┆ 0.21157 │\n",
       "│ 201808  ┆ 10310       ┆ 20431      ┆ 0.11466 │\n",
       "│ 201811  ┆ 10074       ┆ 20522      ┆ 0.7775  │\n",
       "└─────────┴─────────────┴────────────┴─────────┘"
      ]
     },
     "execution_count": 6,
     "metadata": {},
     "output_type": "execute_result"
    }
   ],
   "source": [
    "df"
   ]
  },
  {
   "cell_type": "code",
   "execution_count": 10,
   "id": "8c465f0e",
   "metadata": {},
   "outputs": [],
   "source": [
    "def completar_con_ceros_desde_primer_periodo_mejorado(df):\n",
    "    \"\"\"\n",
    "    Versión mejorada que completa con ceros desde el primer período \n",
    "    en que aparece cada combinación (customer_id, product_id), pero también\n",
    "    incluye productos que el socio nunca compró desde el primer período\n",
    "    en que ese producto apareció en el sistema.\n",
    "    \"\"\"\n",
    "    # Obtener el rango total de periodos\n",
    "    periodos = df.select(pl.col(\"periodo\")).unique().sort(\"periodo\").to_series()\n",
    "    \n",
    "    # Obtener primer periodo en el que apareció cada producto en el sistema\n",
    "    primer_periodo_por_producto_sistema = (\n",
    "        df.group_by([\"product_id\"])\n",
    "        .agg(pl.col(\"periodo\").min().alias(\"primer_periodo_producto\"))\n",
    "    )\n",
    "    \n",
    "    # Obtener primer periodo en el que cada customer compró cada producto\n",
    "    # (esto puede no existir para algunas combinaciones)\n",
    "    primer_periodo_customer_producto = (\n",
    "        df.group_by([\"customer_id\", \"product_id\"])\n",
    "        .agg(pl.col(\"periodo\").min().alias(\"primer_periodo_customer\"))\n",
    "    )\n",
    "    \n",
    "    # Obtener todos los customers y productos únicos\n",
    "    customers = df.select(pl.col(\"customer_id\")).unique()\n",
    "    productos = df.select(pl.col(\"product_id\")).unique()\n",
    "    \n",
    "    # Crear todas las combinaciones customer-producto posibles\n",
    "    todas_combinaciones_customer_producto = customers.join(productos, how=\"cross\")\n",
    "    \n",
    "    # Unir con la información de primer período del producto en el sistema\n",
    "    combinaciones_con_primer_periodo = (\n",
    "        todas_combinaciones_customer_producto\n",
    "        .join(primer_periodo_por_producto_sistema, on=\"product_id\", how=\"left\")\n",
    "        .join(primer_periodo_customer_producto, on=[\"customer_id\", \"product_id\"], how=\"left\")\n",
    "    )\n",
    "    \n",
    "    # Para cada combinación, usar el primer período del customer si existe,\n",
    "    # sino usar el primer período del producto en el sistema\n",
    "    combinaciones_con_periodo_inicio = (\n",
    "        combinaciones_con_primer_periodo\n",
    "        .with_columns(\n",
    "            pl.when(pl.col(\"primer_periodo_customer\").is_not_null())\n",
    "            .then(pl.col(\"primer_periodo_customer\"))\n",
    "            .otherwise(pl.col(\"primer_periodo_producto\"))\n",
    "            .alias(\"periodo_inicio\")\n",
    "        )\n",
    "        .select([\"customer_id\", \"product_id\", \"periodo_inicio\"])\n",
    "    )\n",
    "    \n",
    "    # Crear el dataframe con todos los períodos\n",
    "    todos_los_periodos = pl.DataFrame({\"periodo\": periodos})\n",
    "    \n",
    "    # Generar todas las combinaciones desde el período de inicio correspondiente\n",
    "    combinaciones = (\n",
    "        combinaciones_con_periodo_inicio\n",
    "        .join(todos_los_periodos, how=\"cross\")\n",
    "        .filter(pl.col(\"periodo\") >= pl.col(\"periodo_inicio\"))\n",
    "        .select([\"periodo\", \"customer_id\", \"product_id\"])\n",
    "    )\n",
    "    \n",
    "    # Unir contra el original para traer los valores de tn\n",
    "    df_resultado = (\n",
    "        combinaciones\n",
    "        .join(df, on=[\"periodo\", \"customer_id\", \"product_id\"], how=\"left\")\n",
    "        .fill_null(0)  # Rellenar con cero donde tn sea nulo\n",
    "        .sort([\"customer_id\", \"product_id\", \"periodo\"])\n",
    "    )\n",
    "    \n",
    "    return df_resultado"
   ]
  },
  {
   "cell_type": "code",
   "execution_count": 11,
   "id": "270b3af1",
   "metadata": {},
   "outputs": [
    {
     "name": "stdout",
     "output_type": "stream",
     "text": [
      "   Combinaciones completas : 19,877,532\n"
     ]
    }
   ],
   "source": [
    "# Completamos df (desde primer período del producto)\n",
    "df_mejorado = completar_con_ceros_desde_primer_periodo_mejorado(df)\n",
    "print(f\"   Combinaciones completas : {df_mejorado.shape[0]:,}\")"
   ]
  },
  {
   "cell_type": "code",
   "execution_count": 12,
   "id": "414e05a3",
   "metadata": {},
   "outputs": [
    {
     "name": "stdout",
     "output_type": "stream",
     "text": [
      "Dataset final: 19,877,532 filas\n",
      "Valores nulos en tn: 0\n",
      "Valores cero en tn: 16,931,714\n",
      "Valores positivos en tn: 2,945,818\n"
     ]
    }
   ],
   "source": [
    "df_final = df_mejorado.clone()\n",
    "print(f\"Dataset final: {df_final.shape[0]:,} filas\")\n",
    "\n",
    "# Verificar que no hay valores nulos\n",
    "print(f\"Valores nulos en tn: {df_final.filter(pl.col('tn').is_null()).shape[0]}\")\n",
    "print(f\"Valores cero en tn: {df_final.filter(pl.col('tn') == 0).shape[0]:,}\")\n",
    "print(f\"Valores positivos en tn: {df_final.filter(pl.col('tn') > 0).shape[0]:,}\")"
   ]
  },
  {
   "cell_type": "code",
   "execution_count": 13,
   "id": "19b16ab6",
   "metadata": {},
   "outputs": [],
   "source": [
    "# Guardar el resultado final\n",
    "df_final.write_ipc((base_dir / \"data/interim/sell_in_completo.feather\"))"
   ]
  }
 ],
 "metadata": {
  "kernelspec": {
   "display_name": "labo_3_env",
   "language": "python",
   "name": "python3"
  },
  "language_info": {
   "codemirror_mode": {
    "name": "ipython",
    "version": 3
   },
   "file_extension": ".py",
   "mimetype": "text/x-python",
   "name": "python",
   "nbconvert_exporter": "python",
   "pygments_lexer": "ipython3",
   "version": "3.11.13"
  }
 },
 "nbformat": 4,
 "nbformat_minor": 5
}
